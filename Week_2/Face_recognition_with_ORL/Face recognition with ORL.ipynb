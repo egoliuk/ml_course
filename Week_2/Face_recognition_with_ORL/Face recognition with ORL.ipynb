{
 "cells": [
  {
   "cell_type": "markdown",
   "metadata": {
    "_uuid": "d9ba8bb9ddca52bbe2011e0f03141d01138901df"
   },
   "source": [
    "# Face recognition with ORL"
   ]
  },
  {
   "cell_type": "markdown",
   "metadata": {},
   "source": [
    "## 1 - Packages ##\n",
    "\n",
    "First, let's run the cell below to import all the packages that you will need during this assignment. \n",
    "- [numpy](www.numpy.org) is the fundamental package for scientific computing with Python.\n",
    "- [matplotlib](http://matplotlib.org) is a famous library to plot graphs in Python.\n"
   ]
  },
  {
   "cell_type": "code",
   "execution_count": 174,
   "metadata": {
    "_uuid": "5d15f29583999b9cb7afd6792001b2c2a0c6b0cf"
   },
   "outputs": [
    {
     "data": {
      "text/plain": [
       "<Figure size 432x288 with 0 Axes>"
      ]
     },
     "metadata": {},
     "output_type": "display_data"
    }
   ],
   "source": [
    "import numpy as np\n",
    "from utils import load_dataset, image_width, image_height\n",
    "import matplotlib.pyplot as plt\n",
    "%matplotlib inline\n",
    "plt.gray()"
   ]
  },
  {
   "cell_type": "code",
   "execution_count": 175,
   "metadata": {},
   "outputs": [
    {
     "name": "stdout",
     "output_type": "stream",
     "text": [
      "train_X shape: (320, 10304)\n",
      "train_Y shape: (320, 1)\n",
      "test_X shape: (80, 10304)\n",
      "test_Y shape: (80, 1)\n"
     ]
    }
   ],
   "source": [
    "# Loading the ORL faces dataset\n",
    "train_X_origin, train_Y, test_X_origin, test_Y = load_dataset()\n",
    "\n",
    "print (\"train_X shape: \" + str(train_X.shape))\n",
    "print (\"train_Y shape: \" + str(train_Y.shape))\n",
    "print (\"test_X shape: \" + str(test_X.shape))\n",
    "print (\"test_Y shape: \" + str(test_Y.shape))"
   ]
  },
  {
   "cell_type": "code",
   "execution_count": 176,
   "metadata": {},
   "outputs": [],
   "source": [
    "# Let's standardize our dataset.\n",
    "train_X_normalized = train_X_origin/255.\n",
    "test_X_normalized = test_X_origin/255."
   ]
  },
  {
   "cell_type": "code",
   "execution_count": 177,
   "metadata": {},
   "outputs": [
    {
     "data": {
      "image/png": "[encoded data removed]",
      "text/plain": [
       "<Figure size 432x288 with 1 Axes>"
      ]
     },
     "metadata": {
      "needs_background": "light"
     },
     "output_type": "display_data"
    }
   ],
   "source": [
    "# Example of a picture\n",
    "index = 31\n",
    "plt.imshow(train_X_normalized[index].reshape(image_height, image_width))\n",
    "plt.show()"
   ]
  },
  {
   "cell_type": "code",
   "execution_count": 178,
   "metadata": {},
   "outputs": [],
   "source": [
    "# GRADED FUNCTION: image2vector\n",
    "def image2vector(image):\n",
    "    \"\"\"\n",
    "    Argument:\n",
    "    image -- a numpy array of shape (length, height, depth)\n",
    "    \n",
    "    Returns:\n",
    "    v -- a vector of shape (length*height*depth, 1)\n",
    "    \"\"\"\n",
    "#     v = image.reshape((image.shape[1]*image.shape[2]), image.shape[0])\n",
    "    v = image.reshape(image.shape[0], -1)\n",
    "    \n",
    "    return v"
   ]
  },
  {
   "cell_type": "code",
   "execution_count": 179,
   "metadata": {},
   "outputs": [
    {
     "name": "stdout",
     "output_type": "stream",
     "text": [
      "flattened train_X: (320, 10304)\n",
      "flattened test_X: (80, 10304)\n"
     ]
    }
   ],
   "source": [
    "# Reshape the training and test examples so that images of size (92, 112, 1) are flattened into single vectors\n",
    "train_X = image2vector(train_X_normalized) \n",
    "test_X = image2vector(test_X_normalized) \n",
    "print (\"flattened train_X: \" + str(train_X.shape))\n",
    "print (\"flattened test_X: \" + str(test_X.shape))"
   ]
  },
  {
   "cell_type": "code",
   "execution_count": 180,
   "metadata": {},
   "outputs": [],
   "source": [
    "#Euclidean distance between 2-dimensional point\n",
    "def find_euclidean_distance(A, B):\n",
    "    return np.sqrt(np.sum((A - B)**2))"
   ]
  },
  {
   "cell_type": "code",
   "execution_count": 181,
   "metadata": {},
   "outputs": [
    {
     "name": "stdout",
     "output_type": "stream",
     "text": [
      "Euclidean distance between first rows:  13.518321\n"
     ]
    }
   ],
   "source": [
    "distance = find_euclidean_distance(train_X[0:1], test_X[0:1])\n",
    "print(\"Euclidean distance between first rows: \", dst)"
   ]
  },
  {
   "cell_type": "code",
   "execution_count": 182,
   "metadata": {},
   "outputs": [],
   "source": [
    "def classify(train_data, train_labels, testData, numberOfClasses, k = 1):\n",
    "    #Euclidean distance between 2-dimensional point\n",
    "    test_labels = []\n",
    "    for testPoint in testData:\n",
    "        #Claculate distances between test point and all of the train points\n",
    "        testDist = [ [find_euclidean_distance(testPoint, train_data[i]), train_labels[i][0]] for i in range(train_data.shape[0])]\n",
    "        #How many points of each class among nearest K\n",
    "        stat = [0 for i in range(numberOfClasses)]\n",
    "        \n",
    "        for d in sorted(testDist)[0:k]:\n",
    "            stat[d[1]] += 1.0\n",
    "        #Assign a class with the most number of occurences among K nearest neighbours\n",
    "        test_labels.append( sorted(zip(stat, range(numberOfClasses)), reverse=True)[0][1] )\n",
    "    return test_labels"
   ]
  },
  {
   "cell_type": "code",
   "execution_count": 183,
   "metadata": {},
   "outputs": [],
   "source": [
    "predicted_Y = classify(train_X, train_Y, test_X, 40)"
   ]
  },
  {
   "cell_type": "code",
   "execution_count": 184,
   "metadata": {},
   "outputs": [
    {
     "name": "stdout",
     "output_type": "stream",
     "text": [
      "[13 35 39 26 32 20  8 12 34 36  9  8 26 11 29  5 32 25 35  4 10 36 27 34\n",
      "  3  5 34 22 29  2 18 16 15 24 20  3  3 12 18 37 28 36 14 28 37 17  9 33\n",
      " 33 19 24 11 26  7 33  2 16 33 38 17 38  3 19 31  8  7  8 29 24 27 21  0\n",
      " 35 19 11 32 19 11  4 17]\n",
      "[13 35 39 26 32 20  8 12 34 36  9  8 26 11 29  5 32 25 35  4 10 36 27 35\n",
      "  3  5 34 12 29  2 18 16 15 24 20  3  3 12 18 37 28 36 14 28 37 17  9 33\n",
      " 33 19 24 11 26  7 33  2 16 33 38 17 38  3 19 31  8  7  8 29 24 27 21  0\n",
      " 35 19 25 32 19 11  4 17]\n"
     ]
    }
   ],
   "source": [
    "print(np.array(predicted_Y))\n",
    "print(np.reshape(test_Y, (1, 80))[0])"
   ]
  },
  {
   "cell_type": "code",
   "execution_count": 185,
   "metadata": {},
   "outputs": [
    {
     "name": "stdout",
     "output_type": "stream",
     "text": [
      "Accuracy:  0.9625\n"
     ]
    }
   ],
   "source": [
    "print (\"Accuracy: \", (np.array(predicted_Y) == np.reshape(test_Y, (1, 80))[0]).mean())"
   ]
  },
  {
   "cell_type": "code",
   "execution_count": null,
   "metadata": {},
   "outputs": [],
   "source": []
  }
 ],
 "metadata": {
  "kernelspec": {
   "display_name": "Python 3",
   "language": "python",
   "name": "python3"
  },
  "language_info": {
   "codemirror_mode": {
    "name": "ipython",
    "version": 3
   },
   "file_extension": ".py",
   "mimetype": "text/x-python",
   "name": "python",
   "nbconvert_exporter": "python",
   "pygments_lexer": "ipython3",
   "version": "3.7.1"
  }
 },
 "nbformat": 4,
 "nbformat_minor": 1
}
