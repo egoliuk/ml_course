{
 "cells": [
  {
   "cell_type": "markdown",
   "metadata": {
    "_uuid": "d9ba8bb9ddca52bbe2011e0f03141d01138901df"
   },
   "source": [
    "# Face recognition with ORL"
   ]
  },
  {
   "cell_type": "markdown",
   "metadata": {},
   "source": [
    "## 1 - Packages ##\n",
    "\n",
    "First, let's run the cell below to import all the packages that you will need during this assignment. \n",
    "- [numpy](www.numpy.org) is the fundamental package for scientific computing with Python.\n",
    "- [matplotlib](http://matplotlib.org) is a famous library to plot graphs in Python.\n"
   ]
  },
  {
   "cell_type": "code",
   "execution_count": 2,
   "metadata": {
    "_uuid": "5d15f29583999b9cb7afd6792001b2c2a0c6b0cf"
   },
   "outputs": [
    {
     "data": {
      "text/plain": [
       "<matplotlib.figure.Figure at 0x7fac5864df28>"
      ]
     },
     "metadata": {},
     "output_type": "display_data"
    }
   ],
   "source": [
    "import matplotlib.pyplot as plt\n",
    "%matplotlib inline\n",
    "import numpy as np\n",
    "import math\n",
    "from utils import load_dataset, image_width, image_height, rotate_image, num_classes\n",
    "from scipy import misc, ndimage\n",
    "\n",
    "plt.gray()"
   ]
  },
  {
   "cell_type": "markdown",
   "metadata": {},
   "source": [
    "## 2 - Upload dataset ##"
   ]
  },
  {
   "cell_type": "code",
   "execution_count": 3,
   "metadata": {},
   "outputs": [
    {
     "name": "stdout",
     "output_type": "stream",
     "text": [
      "train_X shape: (320, 92, 112, 1)\n",
      "train_Y shape: (320, 1)\n",
      "test_X shape: (80, 92, 112, 1)\n",
      "test_Y shape: (80, 1)\n"
     ]
    }
   ],
   "source": [
    "# Loading the ORL faces dataset\n",
    "train_X_origin, train_Y, test_X_origin, test_Y = load_dataset()\n",
    "\n",
    "print (\"train_X shape: \" + str(train_X_origin.shape))\n",
    "print (\"train_Y shape: \" + str(train_Y.shape))\n",
    "print (\"test_X shape: \" + str(test_X_origin.shape))\n",
    "print (\"test_Y shape: \" + str(test_Y.shape))"
   ]
  },
  {
   "cell_type": "code",
   "execution_count": 4,
   "metadata": {},
   "outputs": [],
   "source": [
    "# Let's standardize our dataset.\n",
    "train_X_scaled = train_X_origin/255.\n",
    "test_X_scaled = test_X_origin/255."
   ]
  },
  {
   "cell_type": "code",
   "execution_count": 5,
   "metadata": {},
   "outputs": [
    {
     "data": {
      "image/png": "[encoded data removed]",
      "text/plain": [
       "<matplotlib.figure.Figure at 0x7fac5864de48>"
      ]
     },
     "metadata": {},
     "output_type": "display_data"
    }
   ],
   "source": [
    "# Example of a picture\n",
    "index = 11\n",
    "plt.imshow(train_X_scaled[index].reshape(image_height, image_width))\n",
    "plt.show()"
   ]
  },
  {
   "cell_type": "code",
   "execution_count": 6,
   "metadata": {},
   "outputs": [],
   "source": [
    "# GRADED FUNCTION: image2vector\n",
    "def image2vector(image):\n",
    "    \"\"\"\n",
    "    Argument:\n",
    "    image -- a numpy array of shape (length, height, depth)\n",
    "    \n",
    "    Returns:\n",
    "    v -- a vector of shape (length*height*depth, 1)\n",
    "    \"\"\"\n",
    "    \n",
    "    v = image.reshape(image.shape[0], -1)\n",
    "\n",
    "    return v"
   ]
  },
  {
   "cell_type": "code",
   "execution_count": 7,
   "metadata": {},
   "outputs": [
    {
     "name": "stdout",
     "output_type": "stream",
     "text": [
      "flattened train_X: (320, 10304)\n",
      "flattened test_X: (80, 10304)\n"
     ]
    }
   ],
   "source": [
    "# Reshape the training and test examples so that images of size (92, 112, 1) are flattened into single vectors\n",
    "train_X = image2vector(train_X_scaled) \n",
    "test_X = image2vector(test_X_scaled) \n",
    "print (\"flattened train_X: \" + str(train_X.shape))\n",
    "print (\"flattened test_X: \" + str(test_X.shape))"
   ]
  },
  {
   "cell_type": "markdown",
   "metadata": {},
   "source": [
    "## 3 -  Classification algorithm ##"
   ]
  },
  {
   "cell_type": "code",
   "execution_count": 8,
   "metadata": {},
   "outputs": [],
   "source": [
    "#Euclidean distance between 2-dimensional point\n",
    "def find_euclidean_distance(A, B):\n",
    "    return np.sqrt(np.sum((A - B)**2))"
   ]
  },
  {
   "cell_type": "code",
   "execution_count": 9,
   "metadata": {},
   "outputs": [
    {
     "name": "stdout",
     "output_type": "stream",
     "text": [
      "Euclidean distance between first rows:  22.725685\n"
     ]
    }
   ],
   "source": [
    "distance = find_euclidean_distance(train_X[0:1], test_X[0:1])\n",
    "print(\"Euclidean distance between first rows: \", distance)"
   ]
  },
  {
   "cell_type": "code",
   "execution_count": 10,
   "metadata": {},
   "outputs": [],
   "source": [
    "def classify(train_data, train_labels, testData, numberOfClasses = num_classes, k = 1):\n",
    "    #Euclidean distance between 2-dimensional point\n",
    "    test_labels = []\n",
    "    for testPoint in testData:\n",
    "        #Claculate distances between test point and all of the train points\n",
    "        testDist = [ [find_euclidean_distance(testPoint, train_data[i]), train_labels[i][0]] for i in range(train_data.shape[0])]\n",
    "        #How many points of each class among nearest K\n",
    "        stat = [0 for i in range(numberOfClasses)]\n",
    "        \n",
    "        for d in sorted(testDist)[0:k]:\n",
    "            stat[d[1]] += 1.0\n",
    "        #Assign a class with the most number of occurences among K nearest neighbours\n",
    "        test_labels.append( sorted(zip(stat, range(numberOfClasses)), reverse=True)[0][1] )\n",
    "    return np.array(test_labels).reshape(80,1)\n",
    "#     return test_labels.reshape(80,1)"
   ]
  },
  {
   "cell_type": "code",
   "execution_count": 11,
   "metadata": {},
   "outputs": [],
   "source": [
    "predicted_Y = classify(train_X, train_Y, test_X)"
   ]
  },
  {
   "cell_type": "code",
   "execution_count": 12,
   "metadata": {},
   "outputs": [
    {
     "name": "stdout",
     "output_type": "stream",
     "text": [
      "[25 13 15 38 22 35 33 35 24 34 20 31  1 36 26 17  1 11  3 13 21 19 20 39\n",
      " 27  8 30 31  3 28 36  2 16 26 14  5 28 11  5 15 21 30  0 16 37  7 27  9\n",
      " 14 24 12 17  9  0 39  7  2 29  8 25 10 37  4  6 12 18 23 19 32 29  6 35\n",
      " 18 10  4 38 33 32 23 22]\n",
      "[25 13 15 38 22 35 33 34 24 34 20 31  1 36 26 17  1 11  3 13 21 19 20 39\n",
      " 27  8 30 31  3 28 36  2 16 26 14  5 28 11  5 15 21 30  0 16 37  7 27  9\n",
      " 14 24 12 17  9  0 39  7  2 29  8 25 10 37  4  6 12 18 23 19 32 29  6 35\n",
      " 18 10  4 38 33 32 23 22]\n"
     ]
    }
   ],
   "source": [
    "print(predicted_Y.flatten())\n",
    "print(test_Y.flatten())"
   ]
  },
  {
   "cell_type": "code",
   "execution_count": 13,
   "metadata": {},
   "outputs": [],
   "source": [
    "def calc_accuracy(X, Y):\n",
    "    \"\"\"\n",
    "    Calculate the model accuracy. Predicted labels vs true ones.\n",
    "    \n",
    "    Argument:\n",
    "    X -- a numpy array (labels) of shape (length, height). Usually, it's a matrix of predicted labels.\n",
    "    Y -- a numpy array (labels) of shape (length, height). Usually, it's a matrix of real labels.\n",
    "    \n",
    "    Returns:\n",
    "    accuracy -- a classification accuracy\n",
    "    \"\"\"\n",
    "    accuracy = (X == Y).mean()\n",
    "    return accuracy"
   ]
  },
  {
   "cell_type": "code",
   "execution_count": 14,
   "metadata": {},
   "outputs": [
    {
     "name": "stdout",
     "output_type": "stream",
     "text": [
      "Accuracy:  0.9875\n"
     ]
    }
   ],
   "source": [
    "print (\"Accuracy: \", calc_accuracy(predicted_Y, test_Y))"
   ]
  },
  {
   "cell_type": "markdown",
   "metadata": {},
   "source": [
    "## 4 - Image normalization ## "
   ]
  },
  {
   "cell_type": "code",
   "execution_count": 15,
   "metadata": {},
   "outputs": [],
   "source": [
    "def normalize(X,axis=0):\n",
    "    \"\"\"\n",
    "    Normalize dataset by features or samples. \n",
    "    \n",
    "    Argument:\n",
    "    X -- a numpy array (dataset) of shape (length, height, depth)\n",
    "    axis -- an axis along which the normalization is computed. 0 - normalization by features, \n",
    "            1 - normalization by samples. Default value is 0\n",
    "    \n",
    "    Returns:\n",
    "    N -- a normalized dataset\n",
    "    \n",
    "    - If we have whole dataset we can for each feature in the dataset \n",
    "    calculate mean value and subtract it from the feature. \n",
    "    - In case of continuously growing dataset like online learning \n",
    "    we normalize each observation (face image in our case) separately: \n",
    "    calculate mean from data entry (one face image), subtract mean from original image \n",
    "    and divide it by standard deviation of the image.\n",
    "\n",
    "    \"\"\"\n",
    "    \n",
    "    N=(X-X.mean(axis=axis, keepdims=True))/X.std(axis=axis, keepdims=True)\n",
    "    return N"
   ]
  },
  {
   "cell_type": "code",
   "execution_count": 16,
   "metadata": {},
   "outputs": [
    {
     "name": "stdout",
     "output_type": "stream",
     "text": [
      "Normalization by samples\n",
      "Normalization by features\n"
     ]
    }
   ],
   "source": [
    "print('Normalization by samples')\n",
    "train_X_normalized_by_samples=normalize(train_X, axis=1)\n",
    "test_X_normalized_by_samples=normalize(test_X, axis=1)\n",
    "print('Normalization by features')\n",
    "train_X_normalized_by_features=normalize(train_X, axis=0)\n",
    "test_X_normalized_by_features=normalize(test_X, axis=0)"
   ]
  },
  {
   "cell_type": "code",
   "execution_count": 17,
   "metadata": {},
   "outputs": [],
   "source": [
    "predicted_Y_normalized_by_samples = classify(train_X_normalized_by_samples, \n",
    "                                             train_Y, \n",
    "                                             test_X_normalized_by_samples)\n",
    "\n",
    "predicted_Y_normalized_by_features = classify(train_X_normalized_by_features, \n",
    "                                              train_Y, \n",
    "                                              test_X_normalized_by_features)"
   ]
  },
  {
   "cell_type": "code",
   "execution_count": 18,
   "metadata": {},
   "outputs": [
    {
     "name": "stdout",
     "output_type": "stream",
     "text": [
      "Accuracy for dataset normalized by samples:  0.95\n",
      "Accuracy for dataset normalized by features:  0.9875\n"
     ]
    }
   ],
   "source": [
    "print (\"Accuracy for dataset normalized by samples: \", calc_accuracy(predicted_Y_normalized_by_samples, test_Y))\n",
    "print (\"Accuracy for dataset normalized by features: \", calc_accuracy(predicted_Y_normalized_by_features, test_Y))"
   ]
  },
  {
   "cell_type": "markdown",
   "metadata": {},
   "source": [
    "**Result table**: \n",
    "\n",
    "<style type=\"text/css\">td {text-align:left}</style>\n",
    "<table style=\"width:auto\">\n",
    "    <tr>\n",
    "        <td>  ** Normalization **  </td>\n",
    "        <td> ** by features ** </td>\n",
    "        <td> ** by samples ** </td>\n",
    "        <td> ** no normalization ** </td>\n",
    "    </tr>\n",
    "    <tr>\n",
    "        <td>  ** Accuracy **  </td>\n",
    "        <td> 98.75% </td>\n",
    "        <td> 95%</td>\n",
    "        <td> 98.75% </td>\n",
    "    </tr>\n",
    "</table>"
   ]
  },
  {
   "cell_type": "markdown",
   "metadata": {},
   "source": [
    "## 5 - PCA ##"
   ]
  },
  {
   "cell_type": "code",
   "execution_count": 19,
   "metadata": {},
   "outputs": [],
   "source": [
    "# TODO "
   ]
  },
  {
   "cell_type": "markdown",
   "metadata": {},
   "source": [
    "## 6 - Image alignment ##"
   ]
  },
  {
   "cell_type": "code",
   "execution_count": null,
   "metadata": {},
   "outputs": [],
   "source": [
    "image = train_X_origin[30].reshape(image_height, image_width)\n",
    "angle = 10\n",
    "\n",
    "image_orig = np.copy(image)\n",
    "image_height, image_width = image_orig.shape[0:2]\n",
    "\n",
    "print(\"Original Image: \", image.shape)\n",
    "plt.imshow(image)\n",
    "plt.show()\n",
    "image_rotated = rotate_image(image, angle)\n",
    "print(\"Rotated Image: \", image_rotated.shape)\n",
    "plt.imshow(image_rotated)\n",
    "plt.show()\n",
    "\n",
    "print(\"Done\")"
   ]
  }
 ],
 "metadata": {
  "kernelspec": {
   "display_name": "Python 3",
   "language": "python",
   "name": "python3"
  },
  "language_info": {
   "codemirror_mode": {
    "name": "ipython",
    "version": 3
   },
   "file_extension": ".py",
   "mimetype": "text/x-python",
   "name": "python",
   "nbconvert_exporter": "python",
   "pygments_lexer": "ipython3",
   "version": "3.6.4"
  }
 },
 "nbformat": 4,
 "nbformat_minor": 1
}
