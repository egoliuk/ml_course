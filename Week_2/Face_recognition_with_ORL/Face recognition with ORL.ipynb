{
 "cells": [
  {
   "cell_type": "markdown",
   "metadata": {
    "_uuid": "d9ba8bb9ddca52bbe2011e0f03141d01138901df"
   },
   "source": [
    "# Face recognition with ORL"
   ]
  },
  {
   "cell_type": "markdown",
   "metadata": {},
   "source": [
    "## 1 - Packages ##\n",
    "\n",
    "First, let's run the cell below to import all the packages that you will need during this assignment. \n",
    "- [numpy](www.numpy.org) is the fundamental package for scientific computing with Python.\n",
    "- [matplotlib](http://matplotlib.org) is a famous library to plot graphs in Python.\n"
   ]
  },
  {
   "cell_type": "code",
   "execution_count": 10,
   "metadata": {
    "_uuid": "5d15f29583999b9cb7afd6792001b2c2a0c6b0cf"
   },
   "outputs": [
    {
     "data": {
      "text/plain": [
       "<matplotlib.figure.Figure at 0x7f152f8976a0>"
      ]
     },
     "metadata": {},
     "output_type": "display_data"
    }
   ],
   "source": [
    "import matplotlib.pyplot as plt\n",
    "%matplotlib inline\n",
    "import numpy as np\n",
    "from utils import load_dataset, image_width, image_height\n",
    "\n",
    "plt.gray()"
   ]
  },
  {
   "cell_type": "code",
   "execution_count": 11,
   "metadata": {},
   "outputs": [
    {
     "name": "stdout",
     "output_type": "stream",
     "text": [
      "train_X shape: (320, 92, 112, 1)\n",
      "train_Y shape: (320, 1)\n",
      "test_X shape: (80, 92, 112, 1)\n",
      "test_Y shape: (80, 1)\n"
     ]
    }
   ],
   "source": [
    "# Loading the ORL faces dataset\n",
    "train_X, train_Y, test_X, test_Y = load_dataset()\n",
    "\n",
    "print (\"train_X shape: \" + str(train_X.shape))\n",
    "print (\"train_Y shape: \" + str(train_Y.shape))\n",
    "print (\"test_X shape: \" + str(test_X.shape))\n",
    "print (\"test_Y shape: \" + str(test_Y.shape))"
   ]
  },
  {
   "cell_type": "code",
   "execution_count": 12,
   "metadata": {},
   "outputs": [],
   "source": [
    "# Let's standardize our dataset.\n",
    "train_X = train_X/255.\n",
    "test_X = test_X/255."
   ]
  },
  {
   "cell_type": "code",
   "execution_count": 13,
   "metadata": {},
   "outputs": [
    {
     "data": {
      "text/plain": [
       "<matplotlib.image.AxesImage at 0x7f152f7ea518>"
      ]
     },
     "execution_count": 13,
     "metadata": {},
     "output_type": "execute_result"
    },
    {
     "data": {
      "image/png": "[encoded data removed]",
      "text/plain": [
       "<matplotlib.figure.Figure at 0x7f155c3ae908>"
      ]
     },
     "metadata": {},
     "output_type": "display_data"
    }
   ],
   "source": [
    "# Example of a picture\n",
    "index = 31\n",
    "plt.imshow(train_X[index].reshape(image_height, image_width))\n",
    "# plt.show()\n",
    "# print (\"y = \" + str(Y[:, index]) + \", it's a '\" + classes[np.squeeze(train_set_y[:, index])].decode(\"utf-8\") +  \"' picture.\")"
   ]
  },
  {
   "cell_type": "code",
   "execution_count": 14,
   "metadata": {},
   "outputs": [
    {
     "name": "stdout",
     "output_type": "stream",
     "text": [
      "flattened train_X: (10304, 320)\n",
      "flattened test_X: (10304, 80)\n"
     ]
    }
   ],
   "source": [
    "# Reshape the training and test examples so that images of size (92, 112, 1) are flattened into single vectors \n",
    "\n",
    "train_X = train_X.reshape(train_X.shape[0], -1).T\n",
    "test_X = test_X.reshape(test_X.shape[0], -1).T\n",
    "print (\"flattened train_X: \" + str(train_X.shape))\n",
    "print (\"flattened test_X: \" + str(test_X.shape))"
   ]
  },
  {
   "cell_type": "code",
   "execution_count": 21,
   "metadata": {},
   "outputs": [],
   "source": [
    "#Euclidean distance between 2-dimensional point\n",
    "def dist (A, B):\n",
    "    return np.sqrt(np.sum((A - B)**2))"
   ]
  },
  {
   "cell_type": "code",
   "execution_count": 22,
   "metadata": {},
   "outputs": [],
   "source": [
    "from scipy.spatial import distance\n",
    "\n",
    "def dist2 (A, B):\n",
    "    return scipy.spatial.distance.euclidean(A, B)"
   ]
  },
  {
   "cell_type": "code",
   "execution_count": 34,
   "metadata": {},
   "outputs": [
    {
     "name": "stdout",
     "output_type": "stream",
     "text": [
      "(1, 10304)\n",
      "13.10218\n"
     ]
    }
   ],
   "source": [
    "print(train_X.T[0:1].shape)\n",
    "dst = dist(train_X.T[0:1], test_X.T[0:1])\n",
    "print(dst)\n",
    "# dst2 = dist2(train_X.T[0:1], test_X.T[0:1])\n",
    "# print(dst2)"
   ]
  },
  {
   "cell_type": "code",
   "execution_count": 81,
   "metadata": {},
   "outputs": [],
   "source": [
    "def classifyKNN (trainData, trainLabels, testData, k, numberOfClasses):\n",
    "    #Euclidean distance between 2-dimensional point\n",
    "#     def dist (a, b):\n",
    "#         return np.sqrt((a[0] - b[0])**2 + (a[1] - b[1])**2)\n",
    "    testLabels = []\t\n",
    "    for testPoint in testData:\n",
    "#         print(trainLabels[0].shape)\n",
    "\n",
    "        #Claculate distances between test point and all of the train points\n",
    "        testDist = [ [dist(testPoint, trainData[i]), trainLabels[i][0]] for i in range(trainData.shape[0])]\n",
    "        #How many points of each class among nearest K\n",
    "        stat = [0 for i in range(numberOfClasses)]\n",
    "#         print(testDist)\n",
    "\n",
    "        for d in sorted(testDist)[0:k]:\n",
    "#             print(d)\n",
    "            stat[d[1]] += 1.0\n",
    "        #Assign a class with the most number of occurences among K nearest neighbours\n",
    "        testLabels.append( sorted(zip(stat, range(numberOfClasses)), reverse=True)[0][1] )\n",
    "    return testLabels"
   ]
  },
  {
   "cell_type": "code",
   "execution_count": 87,
   "metadata": {},
   "outputs": [],
   "source": [
    "lbs = classifyKNN(train_X.T, train_Y, test_X.T, 3, 40)"
   ]
  },
  {
   "cell_type": "code",
   "execution_count": 98,
   "metadata": {},
   "outputs": [
    {
     "name": "stdout",
     "output_type": "stream",
     "text": [
      "[13 35 39 26 32 20  8 12 34 36  9  8 26 11 29  5 32 25 35  4 10 36 27 35\n",
      "  3  5 34 12 29  2 18 16 15 24 30  3  3 12 18 37 28 36 14 28 37 17  9 33\n",
      " 33 19 24 11 26  7 33  2 16 33 38 17 38  3 19 31 23  7  8 29 24 27 21  9\n",
      " 35 19 25 32 19 11  4 17]\n",
      "[13 35 39 26 32 20  8 12 34 36  9  8 26 11 29  5 32 25 35  4 10 36 27 35\n",
      "  3  5 34 12 29  2 18 16 15 24 20  3  3 12 18 37 28 36 14 28 37 17  9 33\n",
      " 33 19 24 11 26  7 33  2 16 33 38 17 38  3 19 31  8  7  8 29 24 27 21  0\n",
      " 35 19 25 32 19 11  4 17]\n"
     ]
    }
   ],
   "source": [
    "print(np.array(lbs))\n",
    "print(np.reshape(test_Y, (1, 80))[0])"
   ]
  },
  {
   "cell_type": "code",
   "execution_count": 111,
   "metadata": {},
   "outputs": [
    {
     "name": "stdout",
     "output_type": "stream",
     "text": [
      "Accuracy:  0.9625\n"
     ]
    }
   ],
   "source": [
    "print (\"Accuracy: \", (np.array(lbs) == np.reshape(test_Y, (1, 80))[0]).mean())"
   ]
  },
  {
   "cell_type": "code",
   "execution_count": null,
   "metadata": {},
   "outputs": [],
   "source": []
  }
 ],
 "metadata": {
  "kernelspec": {
   "display_name": "Python 3",
   "language": "python",
   "name": "python3"
  },
  "language_info": {
   "codemirror_mode": {
    "name": "ipython",
    "version": 3
   },
   "file_extension": ".py",
   "mimetype": "text/x-python",
   "name": "python",
   "nbconvert_exporter": "python",
   "pygments_lexer": "ipython3",
   "version": "3.6.4"
  }
 },
 "nbformat": 4,
 "nbformat_minor": 1
}
