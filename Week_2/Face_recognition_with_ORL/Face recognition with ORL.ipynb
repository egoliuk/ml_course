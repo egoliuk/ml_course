{
 "cells": [
  {
   "cell_type": "markdown",
   "metadata": {
    "_uuid": "d9ba8bb9ddca52bbe2011e0f03141d01138901df"
   },
   "source": [
    "# Face recognition with ORL"
   ]
  },
  {
   "cell_type": "markdown",
   "metadata": {},
   "source": [
    "## 1 - Packages ##\n",
    "\n",
    "First, let's run the cell below to import all the packages that you will need during this assignment. \n",
    "- [numpy](www.numpy.org) is the fundamental package for scientific computing with Python.\n",
    "- [matplotlib](http://matplotlib.org) is a famous library to plot graphs in Python.\n"
   ]
  },
  {
   "cell_type": "code",
   "execution_count": 1,
   "metadata": {
    "_uuid": "5d15f29583999b9cb7afd6792001b2c2a0c6b0cf"
   },
   "outputs": [
    {
     "data": {
      "text/plain": [
       "<matplotlib.figure.Figure at 0x7f558c281da0>"
      ]
     },
     "metadata": {},
     "output_type": "display_data"
    }
   ],
   "source": [
    "import matplotlib.pyplot as plt\n",
    "%matplotlib inline\n",
    "import numpy as np\n",
    "import math\n",
    "from utils import load_dataset, image_width, image_height, rotate_image, num_classes\n",
    "from scipy import misc, ndimage\n",
    "\n",
    "plt.gray()"
   ]
  },
  {
   "cell_type": "markdown",
   "metadata": {},
   "source": [
    "## 2 - Upload dataset ##"
   ]
  },
  {
   "cell_type": "code",
   "execution_count": 2,
   "metadata": {},
   "outputs": [
    {
     "name": "stdout",
     "output_type": "stream",
     "text": [
      "train_X shape: (320, 92, 112, 1)\n",
      "train_Y shape: (320, 1)\n",
      "test_X shape: (80, 92, 112, 1)\n",
      "test_Y shape: (80, 1)\n"
     ]
    }
   ],
   "source": [
    "# Loading the ORL faces dataset\n",
    "train_X_origin, train_Y, test_X_origin, test_Y = load_dataset(False)\n",
    "\n",
    "print (\"train_X shape: \" + str(train_X_origin.shape))\n",
    "print (\"train_Y shape: \" + str(train_Y.shape))\n",
    "print (\"test_X shape: \" + str(test_X_origin.shape))\n",
    "print (\"test_Y shape: \" + str(test_Y.shape))"
   ]
  },
  {
   "cell_type": "code",
   "execution_count": 3,
   "metadata": {},
   "outputs": [],
   "source": [
    "# Let's standardize our dataset.\n",
    "train_X_scaled = np.copy(train_X_origin)/255.\n",
    "test_X_scaled = np.copy(test_X_origin)/255."
   ]
  },
  {
   "cell_type": "code",
   "execution_count": 4,
   "metadata": {},
   "outputs": [
    {
     "data": {
      "image/png": "[encoded data removed]",
      "text/plain": [
       "<matplotlib.figure.Figure at 0x7f558c2edf98>"
      ]
     },
     "metadata": {},
     "output_type": "display_data"
    }
   ],
   "source": [
    "# Example of a picture\n",
    "index = 11\n",
    "plt.imshow(np.copy(train_X_scaled)[index].reshape(image_height, image_width))\n",
    "plt.show()"
   ]
  },
  {
   "cell_type": "code",
   "execution_count": 5,
   "metadata": {},
   "outputs": [],
   "source": [
    "# Vectorize an image\n",
    "def image2vector(image):\n",
    "    \"\"\"\n",
    "    Vectorize an image.\n",
    "    \n",
    "    Argument:\n",
    "    image -- a numpy array of shape (num_samples, length, height, depth)\n",
    "    \n",
    "    Returns:\n",
    "    v -- a vector of shape (num_samples, length*height*depth - num_features)\n",
    "    \"\"\"\n",
    "    \n",
    "    v = np.copy(image).reshape(image.shape[0], -1)\n",
    "\n",
    "    return v"
   ]
  },
  {
   "cell_type": "code",
   "execution_count": 6,
   "metadata": {},
   "outputs": [
    {
     "name": "stdout",
     "output_type": "stream",
     "text": [
      "flattened train_X: (320, 10304)\n",
      "flattened test_X: (80, 10304)\n"
     ]
    }
   ],
   "source": [
    "# Reshape the training and test examples so that images of size (92, 112, 1) are flattened into single vectors\n",
    "train_X = image2vector(train_X_scaled) \n",
    "test_X = image2vector(test_X_scaled) \n",
    "print (\"flattened train_X: \" + str(train_X.shape))\n",
    "print (\"flattened test_X: \" + str(test_X.shape))"
   ]
  },
  {
   "cell_type": "markdown",
   "metadata": {},
   "source": [
    "## 3 -  Classification algorithm ##"
   ]
  },
  {
   "cell_type": "code",
   "execution_count": 7,
   "metadata": {},
   "outputs": [],
   "source": [
    "#Euclidean distance between 2-dimensional point\n",
    "def find_euclidean_distance(A, B):\n",
    "    return np.sqrt(np.sum((A - B)**2))"
   ]
  },
  {
   "cell_type": "code",
   "execution_count": 8,
   "metadata": {},
   "outputs": [
    {
     "name": "stdout",
     "output_type": "stream",
     "text": [
      "Euclidean distance between first rows:  19.59163\n"
     ]
    }
   ],
   "source": [
    "distance = find_euclidean_distance(train_X[0:1], test_X[0:1])\n",
    "print(\"Euclidean distance between first rows: \", distance)"
   ]
  },
  {
   "cell_type": "code",
   "execution_count": 9,
   "metadata": {},
   "outputs": [],
   "source": [
    "def classify(train_data, train_labels, test_data, n_classes = num_classes, k = 1):\n",
    "    \"\"\"\n",
    "    KNN Classification.\n",
    "    \n",
    "    Argument:\n",
    "    train_data -- a numpy array (dataset) of shape (num_samples, num_features)\n",
    "    train_labels -- a numpy array (labels) of shape (num_samples, 1 - a label)\n",
    "    test_data -- a numpy array (dataset) of shape (num_samples, num_features)\n",
    "    n_classes -- a number of classes in dataset. Default value is 80, as in ORL faces dataset\n",
    "    k -- a number of nearest neighbors. Default value is 3. \n",
    "         When K=1, then the algorithm is known as the nearest neighbor algorithm.\n",
    "    \n",
    "    Returns:\n",
    "    predicted_labels -- a numpy array (labels) of shape (num_samples, 1 - a label). \n",
    "                        Predicted_labels for an input test dataset\n",
    "    \n",
    "    note: Research has shown that no optimal number of neighbors (k) suits all kind of data sets. \n",
    "    Each dataset has it's own requirements. In the case of a small number of neighbors, \n",
    "    the noise will have a higher influence on the result, and a large number of neighbors \n",
    "    make it computationally expensive. \n",
    "    Research has also shown that a small amount of neighbors are most flexible fit \n",
    "    which will have low bias but high variance and a large number of neighbors \n",
    "    will have a smoother decision boundary which means lower variance but higher bias.\n",
    "    \"\"\"\n",
    "    #Euclidean distance between 2-dimensional point\n",
    "    test_labels = []\n",
    "    for test_sample in test_data:\n",
    "        #Claculate distances between test point and all of the train points\n",
    "        dist = [ [find_euclidean_distance(test_sample, train_data[i]), train_labels[i][0]] for i in range(train_data.shape[0])]\n",
    "        #How many points of each class among nearest K\n",
    "        stat = [0 for i in range(n_classes)]\n",
    "        \n",
    "        for d in sorted(dist)[0:k]:\n",
    "            stat[d[1]] += 1.0\n",
    "        #Assign a class with the most number of occurences among K nearest neighbours\n",
    "        test_labels.append( sorted(zip(stat, range(n_classes)), reverse=True)[0][1] )\n",
    "    predicted_labels = np.array(test_labels).reshape(test_data.shape[0],1)\n",
    "    return predicted_labels"
   ]
  },
  {
   "cell_type": "code",
   "execution_count": 10,
   "metadata": {},
   "outputs": [],
   "source": [
    "predicted_Y = classify(train_X, train_Y, test_X)"
   ]
  },
  {
   "cell_type": "code",
   "execution_count": 11,
   "metadata": {},
   "outputs": [
    {
     "name": "stdout",
     "output_type": "stream",
     "text": [
      "[ 0  0  1  1  2  2  3  3  4  4  5  5  6  6  7  7  8  8  9  9 10 10 11 11\n",
      " 12 12 13 13 14 14 15 15 16 16 17 17 18 18 19 19 20 20 21 21 22 22 23 23\n",
      " 24 24 25 25 26 26 27 27 28 28 29 29 30 30 31 31 32 32 33 33 35 34 35 35\n",
      " 36 36 37 37 38 38 39 39]\n",
      "[ 0  0  1  1  2  2  3  3  4  4  5  5  6  6  7  7  8  8  9  9 10 10 11 11\n",
      " 12 12 13 13 14 14 15 15 16 16 17 17 18 18 19 19 20 20 21 21 22 22 23 23\n",
      " 24 24 25 25 26 26 27 27 28 28 29 29 30 30 31 31 32 32 33 33 34 34 35 35\n",
      " 36 36 37 37 38 38 39 39]\n"
     ]
    }
   ],
   "source": [
    "print(predicted_Y.flatten())\n",
    "print(test_Y.flatten())\n",
    "# print(predicted_Y.flatten()[68])\n",
    "# print(test_Y.flatten()[68])\n",
    "# show_image = test_X[68]\n",
    "# print(show_image)\n",
    "# plt.imshow(np.copy(show_image).reshape(image_height, image_width))\n",
    "# plt.show()"
   ]
  },
  {
   "cell_type": "code",
   "execution_count": 12,
   "metadata": {},
   "outputs": [],
   "source": [
    "def calc_accuracy(X, Y):\n",
    "    \"\"\"\n",
    "    Calculate the model accuracy. Predicted labels vs true ones.\n",
    "    \n",
    "    Argument:\n",
    "    X -- a numpy array (labels) of shape (num_samples, 1 - a label). Usually, it's a matrix of predicted labels.\n",
    "    Y -- a numpy array (labels) of shape (num_samples, 1 - a label). Usually, it's a matrix of real labels.\n",
    "    \n",
    "    Returns:\n",
    "    accuracy -- a classification accuracy\n",
    "    \"\"\"\n",
    "    accuracy = (np.copy(X) == np.copy(Y)).mean()\n",
    "    return accuracy"
   ]
  },
  {
   "cell_type": "code",
   "execution_count": 13,
   "metadata": {},
   "outputs": [
    {
     "name": "stdout",
     "output_type": "stream",
     "text": [
      "Accuracy:  0.9875\n"
     ]
    }
   ],
   "source": [
    "print (\"Accuracy: \", calc_accuracy(predicted_Y, test_Y))"
   ]
  },
  {
   "cell_type": "markdown",
   "metadata": {},
   "source": [
    "## 4 - Image normalization ## "
   ]
  },
  {
   "cell_type": "code",
   "execution_count": 14,
   "metadata": {},
   "outputs": [],
   "source": [
    "def normalize(X, axis=0):\n",
    "    \"\"\"\n",
    "    Normalize dataset by features or samples. \n",
    "    \n",
    "    Argument:\n",
    "    X -- a numpy array (dataset) of shape (num_samples, num_features)\n",
    "    axis -- an axis along which the normalization is computed. 0 - normalization by features, \n",
    "            1 - normalization by samples. Default value is 0\n",
    "    \n",
    "    Returns:\n",
    "    N -- a normalized dataset\n",
    "    \n",
    "    - If we have whole dataset we can for each feature in the dataset \n",
    "    calculate mean value and subtract it from the feature. \n",
    "    - In case of continuously growing dataset like online learning \n",
    "    we normalize each observation (face image in our case) separately: \n",
    "    calculate mean from data entry (one face image), subtract mean from original image \n",
    "    and divide it by standard deviation of the image.\n",
    "\n",
    "    \"\"\"\n",
    "    X = np.copy(X)\n",
    "    N = (X-X.mean(axis=axis, keepdims=True))/X.std(axis=axis, keepdims=True)\n",
    "    return N"
   ]
  },
  {
   "cell_type": "code",
   "execution_count": 15,
   "metadata": {},
   "outputs": [
    {
     "name": "stdout",
     "output_type": "stream",
     "text": [
      "Normalization by samples\n",
      "Normalization by features\n"
     ]
    }
   ],
   "source": [
    "print('Normalization by samples')\n",
    "train_X_normalized_by_samples=normalize(train_X, axis=1)\n",
    "test_X_normalized_by_samples=normalize(test_X, axis=1)\n",
    "print('Normalization by features')\n",
    "train_X_normalized_by_features=normalize(train_X, axis=0)\n",
    "test_X_normalized_by_features=normalize(test_X, axis=0)"
   ]
  },
  {
   "cell_type": "code",
   "execution_count": 16,
   "metadata": {},
   "outputs": [],
   "source": [
    "predicted_Y_normalized_by_samples = classify(train_X_normalized_by_samples, \n",
    "                                             train_Y, \n",
    "                                             test_X_normalized_by_samples)\n",
    "\n",
    "predicted_Y_normalized_by_features = classify(train_X_normalized_by_features, \n",
    "                                              train_Y, \n",
    "                                              test_X_normalized_by_features)"
   ]
  },
  {
   "cell_type": "code",
   "execution_count": 17,
   "metadata": {},
   "outputs": [
    {
     "name": "stdout",
     "output_type": "stream",
     "text": [
      "Accuracy for dataset normalized by samples:  0.95\n",
      "Accuracy for dataset normalized by features:  0.9875\n"
     ]
    }
   ],
   "source": [
    "print (\"Accuracy for dataset normalized by samples: \", calc_accuracy(predicted_Y_normalized_by_samples, test_Y))\n",
    "print (\"Accuracy for dataset normalized by features: \", calc_accuracy(predicted_Y_normalized_by_features, test_Y))"
   ]
  },
  {
   "cell_type": "markdown",
   "metadata": {},
   "source": [
    "**Result table**: \n",
    "\n",
    "<style type=\"text/css\">td {text-align:left}</style>\n",
    "<table style=\"width:auto\">\n",
    "    <tr>\n",
    "        <td>  ** Normalization **  </td>\n",
    "        <td> ** by features ** </td>\n",
    "        <td> ** by samples ** </td>\n",
    "        <td> ** no normalization ** </td>\n",
    "    </tr>\n",
    "    <tr>\n",
    "        <td>  ** Accuracy **  </td>\n",
    "        <td> 98.75% </td>\n",
    "        <td> 95.0%</td>\n",
    "        <td> 98.75% </td>\n",
    "    </tr>\n",
    "</table>"
   ]
  },
  {
   "cell_type": "markdown",
   "metadata": {},
   "source": [
    "## 5 - PCA ##"
   ]
  },
  {
   "cell_type": "code",
   "execution_count": 18,
   "metadata": {
    "scrolled": true
   },
   "outputs": [
    {
     "name": "stdout",
     "output_type": "stream",
     "text": [
      "Shape of covariance matrix for train_X: (10304, 10304)\n"
     ]
    }
   ],
   "source": [
    "def cov(M):\n",
    "    '''\n",
    "    Calculate the covariance matrix.\n",
    "        \n",
    "    Argument:\n",
    "    M -- a numpy array (dataset) of shape (num_samples, num_features)\n",
    "         Training data, where n_samples is the number of samples and n_features is the number of features.\n",
    "         \n",
    "    Returns:\n",
    "    X -- a numpy array (a covariance matrix)\n",
    "    '''\n",
    "    X = np.copy(M)\n",
    "    X = np.dot(X.T, X)\n",
    "    return X\n",
    "\n",
    "# def cov2(M):\n",
    "#     '''\n",
    "#     Calculate the covariance matrix\n",
    "#     note: this mean-centers and auto-scales the data (in-place)\n",
    "#     '''\n",
    "#     X = np.copy(M)\n",
    "#     N = X.shape[0]  \n",
    "#     return np.dot(X.T, X.conj())/float(N-1)\n",
    "\n",
    "# def cov3(M):\n",
    "#     '''\n",
    "#     Calculate the covariance matrix\n",
    "#     '''\n",
    "#     X = np.copy(M)\n",
    "#     return np.cov(X)\n",
    "\n",
    "print(\"Shape of covariance matrix for train_X:\", cov(train_X).shape)"
   ]
  },
  {
   "cell_type": "code",
   "execution_count": 19,
   "metadata": {
    "scrolled": true
   },
   "outputs": [],
   "source": [
    "def pca(M, num_components = .98):\n",
    "    \"\"\"\n",
    "    Principal component analysis using eigenvalues.\n",
    "    Linear dimensionality reduction using Singular Value Decomposition of the data \n",
    "    to project it to a lower dimensional space.\n",
    "    \n",
    "    Argument:\n",
    "    M -- a numpy array (dataset) of shape (num_samples, num_features)\n",
    "    num_components -- int, float. Number of components to keep. \n",
    "                      If 0 < n_components < 1, select the number of components \n",
    "                      such that the amount of variance that needs to be explained is greater \n",
    "                      than the percentage specified by n_components.\n",
    "                      The default value is 0.95.\n",
    "    \n",
    "    Returns:\n",
    "    transform_matrix -- the matrix for dimensionality reduction \n",
    "    R -- the matrix (dataset) of shape (num_samples, num_features) which dimensionality has been reduced \n",
    "    \n",
    "    note: this mean-centers and auto-scales the data (in-place).\n",
    "    \"\"\"\n",
    "    \n",
    "    X = np.copy(M)\n",
    "    # centralize our data by removing the mean from each value within our dataset\n",
    "    X = normalize(X, axis=0)\n",
    "    \n",
    "    C = cov(X)\n",
    "    # calculate the eigendecomposition (eigenvalues and eigenvectors of a real symmetric matrix)\n",
    "    E, V = np.linalg.eigh(C)\n",
    "\n",
    "    key = None\n",
    "    if (num_components<1):\n",
    "        n=X.shape[1]\n",
    "        p=1\n",
    "        i=0\n",
    "        while p>num_components:\n",
    "            i+=1\n",
    "            key=np.argsort(-E)[:n-i]\n",
    "            p=np.sum(E [key])/np.sum(E)\n",
    "        # calculate the matrix for dimensionality reduction \n",
    "        transform_matrix=V[:, key]\n",
    "    else:\n",
    "        # calculate the matrix for dimensionality reduction \n",
    "        transform_matrix = V\n",
    "        \n",
    "    # reduce dimensionality of an input dataset\n",
    "    R = np.dot(M, transform_matrix)\n",
    "    return transform_matrix, R"
   ]
  },
  {
   "cell_type": "code",
   "execution_count": 35,
   "metadata": {},
   "outputs": [
    {
     "name": "stdout",
     "output_type": "stream",
     "text": [
      "Parametrize the PCA algorithm with different values of pca energy (0.95, 0.98, 0.99, and 1.00).\n",
      "\n",
      "pca_energy = 0.95 the number of components = 166\n",
      "transformation matrix shape: (10304, 166)\n",
      "train_X_reduced shape: (320, 166)\n",
      "test_X_reduced shape: (80, 166)\n",
      "Accuracy for dataset reduced by PCA (energy 0.95): 0.9875\n",
      "\n",
      "\n",
      "pca_energy = 0.98 the number of components = 234\n",
      "transformation matrix shape: (10304, 234)\n",
      "train_X_reduced shape: (320, 234)\n",
      "test_X_reduced shape: (80, 234)\n",
      "Accuracy for dataset reduced by PCA (energy 0.98): 0.9875\n",
      "\n",
      "\n",
      "pca_energy = 0.99 the number of components = 268\n",
      "transformation matrix shape: (10304, 268)\n",
      "train_X_reduced shape: (320, 268)\n",
      "test_X_reduced shape: (80, 268)\n",
      "Accuracy for dataset reduced by PCA (energy 0.99): 0.9875\n",
      "\n",
      "\n",
      "pca_energy = 1.0 the number of components = 10304\n",
      "transformation matrix shape: (10304, 10304)\n",
      "train_X_reduced shape: (320, 10304)\n",
      "test_X_reduced shape: (80, 10304)\n",
      "Accuracy for dataset reduced by PCA (energy 1.0): 0.9875\n",
      "\n",
      "\n"
     ]
    }
   ],
   "source": [
    "print(\"Parametrize the PCA algorithm with different values of pca energy (0.95, 0.98, 0.99, and 1.00).\\n\")\n",
    "for pca_energy in [0.95, 0.98, 0.99, 1.00]:\n",
    "#     globals()['transform_matrix_%s' % (pca_energy * 100)], globals()['train_X_reduced_%s' % (pca_energy * 100)], = pca(train_X, pca_energy)\n",
    "    transform_matrix, train_X_reduced = pca(train_X, pca_energy)\n",
    "    print(\"pca_energy =\", pca_energy, \"the number of components =\", train_X_reduced.shape[1])\n",
    "    print(\"transformation matrix shape:\", transform_matrix.shape)\n",
    "    print(\"train_X_reduced shape:\", train_X_reduced.shape)\n",
    "    \n",
    "    test_X_reduced = np.dot(test_X, transform_matrix)\n",
    "    print(\"test_X_reduced shape:\", test_X_reduced.shape)\n",
    "    \n",
    "    predicted_Y_reduced = classify(train_X_reduced, train_Y, test_X_reduced)\n",
    "    print ('Accuracy for dataset reduced by PCA (energy %s):' % pca_energy, calc_accuracy(predicted_Y_reduced, test_Y))\n",
    "    \n",
    "    print('\\n')"
   ]
  },
  {
   "cell_type": "markdown",
   "metadata": {},
   "source": [
    "**Summary statistics for different values of pca energy**: \n",
    "\n",
    "<style type=\"text/css\">td {text-align:left}</style>\n",
    "<table style=\"width:auto\">\n",
    "    <tr>\n",
    "        <td>  ** PCA energy **  </td>\n",
    "        <td> ** 0.95 ** </td>\n",
    "        <td> ** 0.98 ** </td>\n",
    "        <td> ** 0.99 ** </td>\n",
    "        <td> ** 1.00 ** </td>\n",
    "        <td> ** no normalization ** </td>\n",
    "    </tr>\n",
    "    <tr>\n",
    "        <td>  ** Accuracy **  </td>\n",
    "        <td> 98.75% </td>\n",
    "        <td> 98.75% </td>\n",
    "        <td> 98.75% </td>\n",
    "        <td> 98.75% </td>\n",
    "        <td> 98.75% </td>\n",
    "    </tr>\n",
    "    <tr>\n",
    "        <td>  ** Number of features **  </td>\n",
    "        <td> 166 </td>\n",
    "        <td> 234 </td>\n",
    "        <td> 268 </td>\n",
    "        <td> 10304 </td>\n",
    "        <td> 10304 </td>\n",
    "    </tr>\n",
    "</table>"
   ]
  },
  {
   "cell_type": "code",
   "execution_count": 26,
   "metadata": {},
   "outputs": [],
   "source": [
    "transform_matrix, train_X_reduced = pca(train_X, 0.90)"
   ]
  },
  {
   "cell_type": "code",
   "execution_count": 32,
   "metadata": {},
   "outputs": [
    {
     "name": "stdout",
     "output_type": "stream",
     "text": [
      "Classify test dataset with original dimensionality:\n",
      " ----- Computation time = 331.31629399986195ms\n",
      "Transform and classify test dataset with reduced dimensionality:\n",
      " ----- Computation time = 631.8893370003025ms\n"
     ]
    }
   ],
   "source": [
    "import time\n",
    "\n",
    "tic1 = time.process_time()\n",
    "predicted_Y_reduced = classify(train_X, train_Y, test_X)\n",
    "toc1 = time.process_time()\n",
    "print (\"Classify test dataset with original dimensionality:\\n ----- Computation time = \" + str(1000*(toc1 - tic1)) + \"ms\")\n",
    "\n",
    "tic2 = time.process_time()\n",
    "# train_X_reduced = np.dot(train_X, transform_matrix)\n",
    "test_X_reduced = np.dot(test_X, transform_matrix)\n",
    "predicted_Y_reduced = classify(train_X_reduced, train_Y, test_X_reduced)\n",
    "toc2 = time.process_time()\n",
    "print (\"Transform and classify test dataset with reduced dimensionality:\\n ----- Computation time = \" + str(1000*(toc2 - tic2)) + \"ms\")"
   ]
  },
  {
   "cell_type": "markdown",
   "metadata": {},
   "source": [
    "## 6 - Image alignment ##"
   ]
  },
  {
   "cell_type": "code",
   "execution_count": 33,
   "metadata": {},
   "outputs": [
    {
     "name": "stdout",
     "output_type": "stream",
     "text": [
      "Original Image:  (112, 92)\n"
     ]
    },
    {
     "data": {
      "image/png": "[encoded data removed]",
      "text/plain": [
       "<matplotlib.figure.Figure at 0x7f555caa4c50>"
      ]
     },
     "metadata": {},
     "output_type": "display_data"
    },
    {
     "name": "stdout",
     "output_type": "stream",
     "text": [
      "Rotated Image:  (112, 92)\n"
     ]
    },
    {
     "name": "stderr",
     "output_type": "stream",
     "text": [
      "/home/eugene/anaconda3/lib/python3.6/site-packages/scipy/ndimage/interpolation.py:616: UserWarning: From scipy 0.13.0, the output shape of zoom() is calculated with round() instead of int() - for these inputs the size of the returned array has changed.\n",
      "  \"the returned array has changed.\", UserWarning)\n"
     ]
    },
    {
     "data": {
      "image/png": "[encoded data removed]",
      "text/plain": [
       "<matplotlib.figure.Figure at 0x7f555ada3390>"
      ]
     },
     "metadata": {},
     "output_type": "display_data"
    },
    {
     "name": "stdout",
     "output_type": "stream",
     "text": [
      "Done\n"
     ]
    }
   ],
   "source": [
    "image = train_X_origin[30].reshape(image_height, image_width)\n",
    "angle = 10\n",
    "\n",
    "image_orig = np.copy(image)\n",
    "# image_height, image_width = image_orig.shape[0:2]\n",
    "\n",
    "print(\"Original Image: \", image.shape)\n",
    "plt.imshow(image)\n",
    "plt.show()\n",
    "image_rotated = rotate_image(image, angle)\n",
    "print(\"Rotated Image: \", image_rotated.shape)\n",
    "plt.imshow(image_rotated)\n",
    "plt.show()\n",
    "\n",
    "print(\"Done\")"
   ]
  },
  {
   "cell_type": "code",
   "execution_count": 34,
   "metadata": {},
   "outputs": [
    {
     "name": "stdout",
     "output_type": "stream",
     "text": [
      "Original Image:  (112, 92)\n"
     ]
    },
    {
     "data": {
      "image/png": "[encoded data removed]",
      "text/plain": [
       "<matplotlib.figure.Figure at 0x7f555ad8ecc0>"
      ]
     },
     "metadata": {},
     "output_type": "display_data"
    },
    {
     "name": "stdout",
     "output_type": "stream",
     "text": [
      "Rotated Image:  (112, 92)\n"
     ]
    },
    {
     "name": "stderr",
     "output_type": "stream",
     "text": [
      "/home/eugene/anaconda3/lib/python3.6/site-packages/scipy/ndimage/interpolation.py:616: UserWarning: From scipy 0.13.0, the output shape of zoom() is calculated with round() instead of int() - for these inputs the size of the returned array has changed.\n",
      "  \"the returned array has changed.\", UserWarning)\n"
     ]
    },
    {
     "data": {
      "image/png": "[encoded data removed]",
      "text/plain": [
       "<matplotlib.figure.Figure at 0x7f555adb7fd0>"
      ]
     },
     "metadata": {},
     "output_type": "display_data"
    },
    {
     "name": "stdout",
     "output_type": "stream",
     "text": [
      "True class: 34\n",
      "Predicted class: 35\n",
      "New predicted class after rotation: 35\n"
     ]
    }
   ],
   "source": [
    "image_origin = test_X[68]\n",
    "image_origin = np.copy(image_origin).reshape(image_height, image_width)\n",
    "print(\"Original Image: \", image_origin.shape)\n",
    "plt.imshow(image_origin)\n",
    "plt.show()\n",
    "\n",
    "image_rotated = rotate_image(np.copy(image_origin), angle)\n",
    "print(\"Rotated Image: \", image_rotated.shape)\n",
    "plt.imshow(image_rotated)\n",
    "plt.show()\n",
    "\n",
    "\n",
    "# print(predicted_Y.flatten())\n",
    "# print(test_Y.flatten())\n",
    "print(\"True class:\", test_Y.flatten()[68])\n",
    "print(\"Predicted class:\", predicted_Y.flatten()[68])\n",
    "test_X_rotated = np.copy(image_rotated).reshape(1, image_rotated.shape[0]*image_rotated.shape[1])\n",
    "predicted_Y_rotated = classify(train_X, train_Y, test_X_rotated)\n",
    "print(\"New predicted class after rotation:\", predicted_Y_rotated.flatten()[0])"
   ]
  }
 ],
 "metadata": {
  "kernelspec": {
   "display_name": "Python 3",
   "language": "python",
   "name": "python3"
  },
  "language_info": {
   "codemirror_mode": {
    "name": "ipython",
    "version": 3
   },
   "file_extension": ".py",
   "mimetype": "text/x-python",
   "name": "python",
   "nbconvert_exporter": "python",
   "pygments_lexer": "ipython3",
   "version": "3.6.4"
  }
 },
 "nbformat": 4,
 "nbformat_minor": 1
}
