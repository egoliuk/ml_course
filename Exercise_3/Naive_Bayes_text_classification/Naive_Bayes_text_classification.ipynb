{
 "cells": [
  {
   "cell_type": "code",
   "execution_count": 1,
   "metadata": {},
   "outputs": [
    {
     "name": "stderr",
     "output_type": "stream",
     "text": [
      "[nltk_data] Downloading package stopwords to /home/eugene/nltk_data...\n",
      "[nltk_data]   Package stopwords is already up-to-date!\n"
     ]
    },
    {
     "data": {
      "text/plain": [
       "True"
      ]
     },
     "execution_count": 1,
     "metadata": {},
     "output_type": "execute_result"
    }
   ],
   "source": [
    "import pandas as pd\n",
    "import numpy as np\n",
    "from collections import Counter\n",
    "import re\n",
    "from utils import load_dataset, split_dataset, split_dataset_data_frame\n",
    "import nltk\n",
    "nltk.download('stopwords')"
   ]
  },
  {
   "cell_type": "code",
   "execution_count": 2,
   "metadata": {},
   "outputs": [
    {
     "name": "stdout",
     "output_type": "stream",
     "text": [
      "corpus shape (1118, 2)\n",
      "train shape (895, 1)\n",
      "test shape (223, 1)\n"
     ]
    }
   ],
   "source": [
    "# Upload datasets\n",
    "\n",
    "train_messages, train_labels, test_messages, test_labels, corpus = load_dataset()\n",
    "print('corpus shape', corpus.shape)\n",
    "print('train shape', train_messages.shape)\n",
    "print('test shape', test_labels.shape)"
   ]
  },
  {
   "cell_type": "markdown",
   "metadata": {},
   "source": [
    "### Text Data Cleaning and Preprocessing"
   ]
  },
  {
   "cell_type": "code",
   "execution_count": 3,
   "metadata": {},
   "outputs": [],
   "source": [
    "def tokenize_and_normalize(text, remove_small_words = True, leave_only_letters = True, to_lower_case = True):\n",
    "    \"\"\"\n",
    "    Converting a sentence into list of words. Normalize text.\n",
    "    \n",
    "    Argument:\n",
    "    text -- a sentence that should be tokenized and normalized\n",
    "    to_lower_case -- reduced all words to lowercase. Default value is True\n",
    "    leave_only_letters -- remove all irrelevant characters (any non-letter characters). Default value is True\n",
    "    remove_small_words -- remove all small words (less than 3 characters). Default value is True\n",
    "    \n",
    "    Returns:\n",
    "    words -- list of words\n",
    "\n",
    "    \"\"\"\n",
    "    if to_lower_case:\n",
    "        text=text.lower()\n",
    "    pattern = r'[A-Z,a-z]' if leave_only_letters else r'\\S' \n",
    "    pattern += r'{3,}' if remove_small_words else r'{1,}' \n",
    "    words=re.findall(pattern,text)\n",
    "    return words"
   ]
  },
  {
   "cell_type": "code",
   "execution_count": 4,
   "metadata": {},
   "outputs": [
    {
     "name": "stdout",
     "output_type": "stream",
     "text": [
      "number of words in row string:  481\n",
      "number of words in normalized string:  372\n"
     ]
    }
   ],
   "source": [
    "print('number of words in row string: ', len(train_messages[3, 0].split()))\n",
    "words = tokenize_and_normalize(train_messages[3, 0])\n",
    "print('number of words in normalized string: ', len(words))\n"
   ]
  },
  {
   "cell_type": "markdown",
   "metadata": {},
   "source": [
    "### Remove stopwords"
   ]
  },
  {
   "cell_type": "code",
   "execution_count": 5,
   "metadata": {},
   "outputs": [
    {
     "name": "stdout",
     "output_type": "stream",
     "text": [
      "number of words in string before remove stopwords: 372\n",
      "number of words in string after stopwords have been removed: 358\n"
     ]
    }
   ],
   "source": [
    "def remove_stopwords(row_words):\n",
    "    \"\"\"\n",
    "    Remove stopwords from list of words.\n",
    "    \n",
    "    Argument:\n",
    "    row_words -- a list of words that contains stopwords that should be removed\n",
    "    \n",
    "    Returns:\n",
    "    words -- list of words\n",
    "\n",
    "    \"\"\"\n",
    "    \n",
    "    clean_words = row_words.copy()\n",
    "    \n",
    "    stopwords = nltk.corpus.stopwords.words('english')\n",
    "    stopwords = tokenize_and_normalize(' '.join(stopwords))\n",
    "    stopwords = list(set(stopwords))\n",
    "    \n",
    "    clean_words = [x for x in clean_words if x not in stopwords]\n",
    "    \n",
    "    return clean_words\n",
    "\n",
    "print('number of words in string before remove stopwords:', len(words))\n",
    "words = remove_stopwords(words)\n",
    "print('number of words in string after stopwords have been removed:', len(words))\n",
    "\n"
   ]
  },
  {
   "cell_type": "code",
   "execution_count": 6,
   "metadata": {},
   "outputs": [
    {
     "data": {
      "text/html": [
       "<div>\n",
       "<style scoped>\n",
       "    .dataframe tbody tr th:only-of-type {\n",
       "        vertical-align: middle;\n",
       "    }\n",
       "\n",
       "    .dataframe tbody tr th {\n",
       "        vertical-align: top;\n",
       "    }\n",
       "\n",
       "    .dataframe thead th {\n",
       "        text-align: right;\n",
       "    }\n",
       "</style>\n",
       "<table border=\"1\" class=\"dataframe\">\n",
       "  <thead>\n",
       "    <tr style=\"text-align: right;\">\n",
       "      <th></th>\n",
       "      <th>messages</th>\n",
       "      <th>labels</th>\n",
       "    </tr>\n",
       "  </thead>\n",
       "  <tbody>\n",
       "  </tbody>\n",
       "</table>\n",
       "</div>"
      ],
      "text/plain": [
       "Empty DataFrame\n",
       "Columns: [messages, labels]\n",
       "Index: []"
      ]
     },
     "execution_count": 6,
     "metadata": {},
     "output_type": "execute_result"
    }
   ],
   "source": [
    "pd.DataFrame({'messages' : [], 'labels' : []})"
   ]
  },
  {
   "cell_type": "markdown",
   "metadata": {},
   "source": [
    "### Create the NaiveBayes class"
   ]
  },
  {
   "cell_type": "code",
   "execution_count": 7,
   "metadata": {},
   "outputs": [],
   "source": [
    "class NaiveBayes:\n",
    "    def __init__(self):\n",
    "        self.corpus = pd.DataFrame({'messages' : [], 'labels' : []})\n",
    "        self.classes = np.empty(0)\n",
    "        self.bag_of_words = []\n",
    "     \n",
    "    def fit(self, corpus):\n",
    "        self.corpus = corpus.copy(deep=True)\n",
    "        labels = corpus['labels'].unique()\n",
    "        self.classes = labels\n",
    "\n",
    "        train_messages, train_labels, test_messages, test_labels = split_dataset(self.corpus)\n",
    "        \n",
    "        train_corpus, test_corpus = split_dataset_data_frame(self.corpus)\n",
    "        \n",
    "#         for message in train_messages.reshape(train_messages.shape[0],):\n",
    "#             self.bag_of_words += tokenize_and_normalize(message)\n",
    "            \n",
    "        self.bag_of_words = tokenize_and_normalize(' '.join(train_corpus['messages'].values.tolist()))\n",
    "        self.bag_of_words = list(set(self.bag_of_words))\n",
    "        \n",
    "        counter_words_by_class = pd.DataFrame(data=np.zeros((len(self.classes), len(self.bag_of_words)), dtype=int),\n",
    "                                     index=self.classes,\n",
    "                                     columns=self.bag_of_words)\n",
    "        \n",
    "        for label in self.classes:\n",
    "            ds_with_label = train_corpus[train_corpus['labels'] == label]\n",
    "            all_words_l = tokenize_and_normalize(' '.join(ds_with_label['messages'].values.tolist()))\n",
    "            for word in all_words_l:\n",
    "                counter_words_by_class.at[label, word] += 1\n",
    "\n",
    "        print(counter_words_by_class)\n",
    "                \n",
    "        \n",
    "        accuracy = 0.01\n",
    "        return accuracy\n",
    "    \n",
    "    def predict(self, text):\n",
    "        pobability = {str(label):0.0001 for label in self.classes}\n",
    "\n",
    "        return pobability"
   ]
  },
  {
   "cell_type": "code",
   "execution_count": 8,
   "metadata": {},
   "outputs": [],
   "source": [
    "# nothing"
   ]
  },
  {
   "cell_type": "markdown",
   "metadata": {},
   "source": [
    "### Validation"
   ]
  },
  {
   "cell_type": "markdown",
   "metadata": {},
   "source": [
    "#### Prepare test corpus"
   ]
  },
  {
   "cell_type": "code",
   "execution_count": 9,
   "metadata": {},
   "outputs": [
    {
     "data": {
      "text/html": [
       "<div>\n",
       "<style scoped>\n",
       "    .dataframe tbody tr th:only-of-type {\n",
       "        vertical-align: middle;\n",
       "    }\n",
       "\n",
       "    .dataframe tbody tr th {\n",
       "        vertical-align: top;\n",
       "    }\n",
       "\n",
       "    .dataframe thead th {\n",
       "        text-align: right;\n",
       "    }\n",
       "</style>\n",
       "<table border=\"1\" class=\"dataframe\">\n",
       "  <thead>\n",
       "    <tr style=\"text-align: right;\">\n",
       "      <th></th>\n",
       "      <th>messages</th>\n",
       "      <th>labels</th>\n",
       "    </tr>\n",
       "  </thead>\n",
       "  <tbody>\n",
       "    <tr>\n",
       "      <th>0</th>\n",
       "      <td>Chinese Beijing Chinese</td>\n",
       "      <td>0</td>\n",
       "    </tr>\n",
       "    <tr>\n",
       "      <th>1</th>\n",
       "      <td>Chinese Chinese Shanghai</td>\n",
       "      <td>0</td>\n",
       "    </tr>\n",
       "    <tr>\n",
       "      <th>2</th>\n",
       "      <td>Chinese Macao</td>\n",
       "      <td>0</td>\n",
       "    </tr>\n",
       "    <tr>\n",
       "      <th>3</th>\n",
       "      <td>Tokyo Japan Chinese</td>\n",
       "      <td>1</td>\n",
       "    </tr>\n",
       "  </tbody>\n",
       "</table>\n",
       "</div>"
      ],
      "text/plain": [
       "                   messages labels\n",
       "0   Chinese Beijing Chinese      0\n",
       "1  Chinese Chinese Shanghai      0\n",
       "2             Chinese Macao      0\n",
       "3       Tokyo Japan Chinese      1"
      ]
     },
     "execution_count": 9,
     "metadata": {},
     "output_type": "execute_result"
    }
   ],
   "source": [
    "data = np.array([[\"Chinese Beijing Chinese\",\"0\"],\n",
    "            [\"Chinese Chinese Shanghai\",\"0\"], \n",
    "            [\"Chinese Macao\",\"0\"],\n",
    "            [\"Tokyo Japan Chinese\",\"1\"]])\n",
    "                \n",
    "data = pd.DataFrame(data=data[0:,0:],\n",
    "                  columns=[\"messages\",\"labels\"])\n",
    "\n",
    "data"
   ]
  },
  {
   "cell_type": "markdown",
   "metadata": {},
   "source": [
    "#### Train and validation a NaiveBayes model"
   ]
  },
  {
   "cell_type": "code",
   "execution_count": 10,
   "metadata": {},
   "outputs": [
    {
     "name": "stdout",
     "output_type": "stream",
     "text": [
      "   tokyo  chinese  macao  shanghai  japan\n",
      "0      0        3      1         1      0\n",
      "1      1        1      0         0      1\n"
     ]
    },
    {
     "data": {
      "text/plain": [
       "{'0': 0.0001, '1': 0.0001}"
      ]
     },
     "execution_count": 10,
     "metadata": {},
     "output_type": "execute_result"
    }
   ],
   "source": [
    "# Create instance of NaiveBayes class\n",
    "nb = NaiveBayes()\n",
    "\n",
    "# Train our model\n",
    "# Tips: inside fit method it would be nice to split input data into train / test (80/20) sets and return model’ accuracy, e.g.:\n",
    "Accuracy = nb.fit(data)  # return accuracy \n",
    "\n",
    "# Try to predict class of text\n",
    "nb.predict([\"Chinese Chinese Chinese Tokyo Japan\"])\n",
    "\n",
    "# Must return[ ('Chinese Chinese Chinese Tokyo Japan', '0')]\n",
    "# pobability {'1': 0.00013548070246744226, '0': 0.00030121377997263036}\n",
    "# or log     {'1': -7.906681345001262, '0': -7.10769031284391}"
   ]
  },
  {
   "cell_type": "code",
   "execution_count": null,
   "metadata": {},
   "outputs": [],
   "source": []
  },
  {
   "cell_type": "code",
   "execution_count": null,
   "metadata": {},
   "outputs": [],
   "source": []
  },
  {
   "cell_type": "code",
   "execution_count": null,
   "metadata": {},
   "outputs": [],
   "source": []
  }
 ],
 "metadata": {
  "kernelspec": {
   "display_name": "Python 3",
   "language": "python",
   "name": "python3"
  },
  "language_info": {
   "codemirror_mode": {
    "name": "ipython",
    "version": 3
   },
   "file_extension": ".py",
   "mimetype": "text/x-python",
   "name": "python",
   "nbconvert_exporter": "python",
   "pygments_lexer": "ipython3",
   "version": "3.7.1"
  }
 },
 "nbformat": 4,
 "nbformat_minor": 2
}
