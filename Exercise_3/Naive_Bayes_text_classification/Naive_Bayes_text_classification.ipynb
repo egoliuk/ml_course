{
 "cells": [
  {
   "cell_type": "code",
   "execution_count": 1,
   "metadata": {},
   "outputs": [],
   "source": [
    "import numpy as np\n",
    "import pandas as pd\n",
    "\n",
    "from utils import load_dataset\n"
   ]
  },
  {
   "cell_type": "code",
   "execution_count": 2,
   "metadata": {},
   "outputs": [
    {
     "name": "stdout",
     "output_type": "stream",
     "text": [
      "dataset shape (1118, 2)\n",
      "train shape (895, 2)\n",
      "test shape (223, 2)\n"
     ]
    }
   ],
   "source": [
    "# Upload datasets\n",
    "\n",
    "datasets_train, datasets_test, datasets_all = load_dataset()\n",
    "print('dataset shape', datasets_all.shape)\n",
    "print('train shape', datasets_train.shape)\n",
    "print('test shape', datasets_test.shape)"
   ]
  },
  {
   "cell_type": "code",
   "execution_count": null,
   "metadata": {},
   "outputs": [],
   "source": []
  }
 ],
 "metadata": {
  "kernelspec": {
   "display_name": "Python 3",
   "language": "python",
   "name": "python3"
  },
  "language_info": {
   "codemirror_mode": {
    "name": "ipython",
    "version": 3
   },
   "file_extension": ".py",
   "mimetype": "text/x-python",
   "name": "python",
   "nbconvert_exporter": "python",
   "pygments_lexer": "ipython3",
   "version": "3.6.4"
  }
 },
 "nbformat": 4,
 "nbformat_minor": 2
}
