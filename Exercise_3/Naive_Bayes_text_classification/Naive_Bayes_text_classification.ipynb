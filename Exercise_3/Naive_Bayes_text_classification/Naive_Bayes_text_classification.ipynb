{
 "cells": [
  {
   "cell_type": "code",
   "execution_count": 1,
   "metadata": {},
   "outputs": [],
   "source": [
    "import numpy as np\n",
    "import pandas as pd\n",
    "import re\n",
    "from utils import load_dataset\n"
   ]
  },
  {
   "cell_type": "code",
   "execution_count": 2,
   "metadata": {},
   "outputs": [
    {
     "name": "stdout",
     "output_type": "stream",
     "text": [
      "dataset shape (1118, 2)\n",
      "train shape (895, 2)\n",
      "test shape (223, 2)\n"
     ]
    }
   ],
   "source": [
    "# Upload datasets\n",
    "\n",
    "datasets_train, datasets_test, datasets_all = load_dataset()\n",
    "print('dataset shape', datasets_all.shape)\n",
    "print('train shape', datasets_train.shape)\n",
    "print('test shape', datasets_test.shape)"
   ]
  },
  {
   "cell_type": "markdown",
   "metadata": {},
   "source": [
    "### Text Data Cleaning and Preprocessing"
   ]
  },
  {
   "cell_type": "code",
   "execution_count": 3,
   "metadata": {},
   "outputs": [],
   "source": [
    "def tokenize_and_normalize(text, remove_small_words = True, leave_only_letters = True, to_lower_case = True):\n",
    "    \"\"\"\n",
    "    Converting a sentence into list of words. Normalize text.\n",
    "    \n",
    "    Argument:\n",
    "    text -- a sentence that should be tokenized and normalized\n",
    "    to_lower_case -- reduced all words to lowercase. Default value is True\n",
    "    leave_only_letters -- remove all irrelevant characters (any non-letter characters). Default value is True\n",
    "    remove_small_words -- remove all small words (less than 3 characters). Default value is True\n",
    "    \n",
    "    Returns:\n",
    "    words -- list of words\n",
    "\n",
    "    \"\"\"\n",
    "    if to_lower_case:\n",
    "        text=text.lower()\n",
    "    pattern = r'[A-Z,a-z]' if leave_only_letters else r'\\S' \n",
    "    pattern += r'{3,}' if remove_small_words else r'{1,}' \n",
    "    words=re.findall(pattern,text)\n",
    "    return words"
   ]
  },
  {
   "cell_type": "code",
   "execution_count": 4,
   "metadata": {},
   "outputs": [
    {
     "name": "stdout",
     "output_type": "stream",
     "text": [
      "!!!!!!!!! sentense datasets_train[1]:  [SPAM]  I will chase you          HealthCare Newsletter        body        font family  Arial  Helvetica  sans serif       margin          padding           a        color       A           noborder         border           noimage     font family Arial  Helvetica  sans serif    font size   px    font weight normal    text align center    text decoration underline     center         text align  center        td permission        font family  Arial  Helvetica  sans serif       font size    px       font weight  normal       color                padding    px     px          td permission a        font family  Arial  Helvetica  sans serif       font size    px       font weight  normal       color                 td header        height    px       border top   px dotted  d d d        border bottom   px dotted  d d d        background color       a         td header h         font family  Arial  Helvetica  sans serif       color  white       font size    px       font weight  bold       text align  center       line height    px       padding top    px        td header h         font family  Arial  Helvetica  sans serif       color  white       font size    px       font weight  bold       text align  center       line height    px        table sidebar td        border bottom   px dotted  d d d        padding    px     px          table sidebar td img        margin left    px       margin bottom    px        h  meta        font family  Arial  Helvetica  sans serif       font size    px       font weight  normal       color                margin          padding          text transform  uppercase        table sidebar ul        margin          px       padding           table sidebar ul li a        font family  Arial       font size    px       font weight  normal       color       A         h         font family  Arial  Helvetica  sans serif       font size    px       font weight  normal       color                margin        px         padding           table sidebar p        font family  Arial  Helvetica  sans serif       font size    px       font weight  normal       color                margin        px         padding           table sidebar p miniheader        font family  Arial  Helvetica  sans serif       font size    px       font weight  bold       color                margin       px         padding           td mainbar h         font family  Arial  Helvetica  sans serif       font size    px       font weight  normal       color                margin    px    px         padding           td mainbar h  a        font family  Arial  Helvetica  sans serif       font size    px       font weight  normal       color                text decoration  none        td mainbar p        font family  Arial  Helvetica  sans serif       font size    px       font weight  normal       color                margin        px         padding           td mainbar p top        padding       px         border bottom   px dotted  d d d         td mainbar p top a        font family  Verdana  Geneva  sans serif       font size    px       font weight  normal       color       A         td mainbar ul        font family  Verdana  Geneva  sans serif       font size    px       font weight  normal       color                 td footer        font family   Lucida Sans   Calibri  Verdana       font size    px       font weight  normal       color                padding    px     px          td footer span        font weight  bold        pre        width     px       padding   px         background color  lightyellow       overflow  auto       font size    px                                 HealthCare Newsletter        Thanks for subscribing                       Welcome   You are successfully subscribed and will start receiving newsletter issues   I hope you enjoy them                                                   Medicine Shoppe International  Inc    Ste     Earth City  MO          This email was sent to hibody csmining org because you signed up for receiving occasional messages     To unsubscribe or change subscriber options visit   http   fb   vugirqv cn  enjkocadi   c   fc  e  d    c c zsndzyjh hibody csmining org vivebuzqv                                \n",
      "!!!!!!!!! words:  ['spam', 'will', 'chase', 'you', 'healthcare', 'newsletter', 'body', 'font', 'family', 'arial', 'helvetica', 'sans', 'serif', 'margin', 'padding', 'color', 'noborder', 'border', 'noimage', 'font', 'family', 'arial', 'helvetica', 'sans', 'serif', 'font', 'size', 'font', 'weight', 'normal', 'text', 'align', 'center', 'text', 'decoration', 'underline', 'center', 'text', 'align', 'center', 'permission', 'font', 'family', 'arial', 'helvetica', 'sans', 'serif', 'font', 'size', 'font', 'weight', 'normal', 'color', 'padding', 'permission', 'font', 'family', 'arial', 'helvetica', 'sans', 'serif', 'font', 'size', 'font', 'weight', 'normal', 'color', 'header', 'height', 'border', 'top', 'dotted', 'border', 'bottom', 'dotted', 'background', 'color', 'header', 'font', 'family', 'arial', 'helvetica', 'sans', 'serif', 'color', 'white', 'font', 'size', 'font', 'weight', 'bold', 'text', 'align', 'center', 'line', 'height', 'padding', 'top', 'header', 'font', 'family', 'arial', 'helvetica', 'sans', 'serif', 'color', 'white', 'font', 'size', 'font', 'weight', 'bold', 'text', 'align', 'center', 'line', 'height', 'table', 'sidebar', 'border', 'bottom', 'dotted', 'padding', 'table', 'sidebar', 'img', 'margin', 'left', 'margin', 'bottom', 'meta', 'font', 'family', 'arial', 'helvetica', 'sans', 'serif', 'font', 'size', 'font', 'weight', 'normal', 'color', 'margin', 'padding', 'text', 'transform', 'uppercase', 'table', 'sidebar', 'margin', 'padding', 'table', 'sidebar', 'font', 'family', 'arial', 'font', 'size', 'font', 'weight', 'normal', 'color', 'font', 'family', 'arial', 'helvetica', 'sans', 'serif', 'font', 'size', 'font', 'weight', 'normal', 'color', 'margin', 'padding', 'table', 'sidebar', 'font', 'family', 'arial', 'helvetica', 'sans', 'serif', 'font', 'size', 'font', 'weight', 'normal', 'color', 'margin', 'padding', 'table', 'sidebar', 'miniheader', 'font', 'family', 'arial', 'helvetica', 'sans', 'serif', 'font', 'size', 'font', 'weight', 'bold', 'color', 'margin', 'padding', 'mainbar', 'font', 'family', 'arial', 'helvetica', 'sans', 'serif', 'font', 'size', 'font', 'weight', 'normal', 'color', 'margin', 'padding', 'mainbar', 'font', 'family', 'arial', 'helvetica', 'sans', 'serif', 'font', 'size', 'font', 'weight', 'normal', 'color', 'text', 'decoration', 'none', 'mainbar', 'font', 'family', 'arial', 'helvetica', 'sans', 'serif', 'font', 'size', 'font', 'weight', 'normal', 'color', 'margin', 'padding', 'mainbar', 'top', 'padding', 'border', 'bottom', 'dotted', 'mainbar', 'top', 'font', 'family', 'verdana', 'geneva', 'sans', 'serif', 'font', 'size', 'font', 'weight', 'normal', 'color', 'mainbar', 'font', 'family', 'verdana', 'geneva', 'sans', 'serif', 'font', 'size', 'font', 'weight', 'normal', 'color', 'footer', 'font', 'family', 'lucida', 'sans', 'calibri', 'verdana', 'font', 'size', 'font', 'weight', 'normal', 'color', 'padding', 'footer', 'span', 'font', 'weight', 'bold', 'pre', 'width', 'padding', 'background', 'color', 'lightyellow', 'overflow', 'auto', 'font', 'size', 'healthcare', 'newsletter', 'thanks', 'for', 'subscribing', 'welcome', 'you', 'are', 'successfully', 'subscribed', 'and', 'will', 'start', 'receiving', 'newsletter', 'issues', 'hope', 'you', 'enjoy', 'them', 'medicine', 'shoppe', 'international', 'inc', 'ste', 'earth', 'city', 'this', 'email', 'was', 'sent', 'hibody', 'csmining', 'org', 'because', 'you', 'signed', 'for', 'receiving', 'occasional', 'messages', 'unsubscribe', 'change', 'subscriber', 'options', 'visit', 'http', 'vugirqv', 'enjkocadi', 'zsndzyjh', 'hibody', 'csmining', 'org', 'vivebuzqv']\n"
     ]
    }
   ],
   "source": [
    "ds = np.array(datasets_train['message'])\n",
    "\n",
    "print('!!!!!!!!! sentense datasets_train[1]: ', ds[3])\n",
    "words = tokenize_and_normalize(ds[3])\n",
    "print('!!!!!!!!! words: ', words)\n"
   ]
  },
  {
   "cell_type": "code",
   "execution_count": null,
   "metadata": {},
   "outputs": [],
   "source": []
  }
 ],
 "metadata": {
  "kernelspec": {
   "display_name": "Python 3",
   "language": "python",
   "name": "python3"
  },
  "language_info": {
   "codemirror_mode": {
    "name": "ipython",
    "version": 3
   },
   "file_extension": ".py",
   "mimetype": "text/x-python",
   "name": "python",
   "nbconvert_exporter": "python",
   "pygments_lexer": "ipython3",
   "version": "3.6.4"
  }
 },
 "nbformat": 4,
 "nbformat_minor": 2
}
