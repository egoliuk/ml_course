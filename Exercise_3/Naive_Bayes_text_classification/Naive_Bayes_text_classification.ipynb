{
 "cells": [
  {
   "cell_type": "code",
   "execution_count": 34,
   "metadata": {},
   "outputs": [
    {
     "name": "stderr",
     "output_type": "stream",
     "text": [
      "[nltk_data] Downloading package stopwords to /home/eugene/nltk_data...\n",
      "[nltk_data]   Package stopwords is already up-to-date!\n"
     ]
    },
    {
     "data": {
      "text/plain": [
       "True"
      ]
     },
     "execution_count": 34,
     "metadata": {},
     "output_type": "execute_result"
    }
   ],
   "source": [
    "import numpy as np\n",
    "import re\n",
    "from utils import load_dataset\n",
    "import nltk\n",
    "nltk.download('stopwords')"
   ]
  },
  {
   "cell_type": "code",
   "execution_count": 35,
   "metadata": {},
   "outputs": [
    {
     "name": "stdout",
     "output_type": "stream",
     "text": [
      "dataset shape (1118, 2)\n",
      "train shape (895, 1)\n",
      "test shape (223, 1)\n"
     ]
    }
   ],
   "source": [
    "# Upload datasets\n",
    "\n",
    "train_messages, train_labels, test_messages, test_labels, datasets_all = load_dataset()\n",
    "print('dataset shape', datasets_all.shape)\n",
    "print('train shape', train_messages.shape)\n",
    "print('test shape', test_labels.shape)"
   ]
  },
  {
   "cell_type": "markdown",
   "metadata": {},
   "source": [
    "### Text Data Cleaning and Preprocessing"
   ]
  },
  {
   "cell_type": "code",
   "execution_count": 36,
   "metadata": {},
   "outputs": [],
   "source": [
    "def tokenize_and_normalize(text, remove_small_words = True, leave_only_letters = True, to_lower_case = True):\n",
    "    \"\"\"\n",
    "    Converting a sentence into list of words. Normalize text.\n",
    "    \n",
    "    Argument:\n",
    "    text -- a sentence that should be tokenized and normalized\n",
    "    to_lower_case -- reduced all words to lowercase. Default value is True\n",
    "    leave_only_letters -- remove all irrelevant characters (any non-letter characters). Default value is True\n",
    "    remove_small_words -- remove all small words (less than 3 characters). Default value is True\n",
    "    \n",
    "    Returns:\n",
    "    words -- list of words\n",
    "\n",
    "    \"\"\"\n",
    "    if to_lower_case:\n",
    "        text=text.lower()\n",
    "    pattern = r'[A-Z,a-z]' if leave_only_letters else r'\\S' \n",
    "    pattern += r'{3,}' if remove_small_words else r'{1,}' \n",
    "    words=re.findall(pattern,text)\n",
    "    return words"
   ]
  },
  {
   "cell_type": "code",
   "execution_count": 50,
   "metadata": {},
   "outputs": [
    {
     "name": "stdout",
     "output_type": "stream",
     "text": [
      "number of words in row string:  481\n",
      "number of words in normalized string:  372\n"
     ]
    }
   ],
   "source": [
    "print('number of words in row string: ', len(train_messages[3, 0].split()))\n",
    "words = tokenize_and_normalize(train_messages[3, 0])\n",
    "print('number of words in normalized string: ', len(words))\n"
   ]
  },
  {
   "cell_type": "markdown",
   "metadata": {},
   "source": [
    "### Remove stopwords"
   ]
  },
  {
   "cell_type": "code",
   "execution_count": 40,
   "metadata": {},
   "outputs": [
    {
     "name": "stdout",
     "output_type": "stream",
     "text": [
      "!!!!!!!!! before remove: 358\n",
      "\n",
      "!!!!!!!!! stopwords: ['their', 'all', 'its', 'being', 'only', 'shouldn', 'during', 'themselves', 'having', 'here', 'ain', 'doing', 'through', 'because', 'after', 'she', 'will', 'wasn', 'out', 'didn', 'shan', 'theirs', 'about', 'before', 'how', 'few', 'mustn', 'yourselves', 'has', 'who', 'does', 'were', 'than', 'nor', 'ours', 'are', 'more', 'couldn', 'just', 'there', 'her', 'those', 'when', 'further', 'his', 'mightn', 'most', 'have', 'over', 'again', 'until', 'same', 'that', 'any', 'don', 'was', 'herself', 'himself', 'above', 'itself', 'under', 'this', 'needn', 'down', 'been', 'myself', 'your', 'not', 'some', 'off', 'wouldn', 'for', 'aren', 'while', 'yourself', 'below', 'whom', 'such', 'each', 'you', 'what', 'the', 'them', 'too', 'why', 'our', 'isn', 'now', 'they', 'ourselves', 'doesn', 'hadn', 'did', 'weren', 'between', 'had', 'very', 'where', 'these', 'hasn', 'hers', 'with', 'from', 'haven', 'into', 'both', 'should', 'yours', 'and', 'then', 'against', 'own', 'but', 'can', 'won', 'once', 'which', 'him', 'other'] \n",
      "\n",
      "!!!!!!!!! is stopwords: False \n",
      "\n",
      "!!!!!!!!! row_words: ['spam', 'chase', 'healthcare', 'newsletter', 'body', 'font', 'family', 'arial', 'helvetica', 'sans', 'serif', 'margin', 'padding', 'color', 'noborder', 'border', 'noimage', 'font', 'family', 'arial', 'helvetica', 'sans', 'serif', 'font', 'size', 'font', 'weight', 'normal', 'text', 'align', 'center', 'text', 'decoration', 'underline', 'center', 'text', 'align', 'center', 'permission', 'font', 'family', 'arial', 'helvetica', 'sans', 'serif', 'font', 'size', 'font', 'weight', 'normal', 'color', 'padding', 'permission', 'font', 'family', 'arial', 'helvetica', 'sans', 'serif', 'font', 'size', 'font', 'weight', 'normal', 'color', 'header', 'height', 'border', 'top', 'dotted', 'border', 'bottom', 'dotted', 'background', 'color', 'header', 'font', 'family', 'arial', 'helvetica', 'sans', 'serif', 'color', 'white', 'font', 'size', 'font', 'weight', 'bold', 'text', 'align', 'center', 'line', 'height', 'padding', 'top', 'header', 'font', 'family', 'arial', 'helvetica', 'sans', 'serif', 'color', 'white', 'font', 'size', 'font', 'weight', 'bold', 'text', 'align', 'center', 'line', 'height', 'table', 'sidebar', 'border', 'bottom', 'dotted', 'padding', 'table', 'sidebar', 'img', 'margin', 'left', 'margin', 'bottom', 'meta', 'font', 'family', 'arial', 'helvetica', 'sans', 'serif', 'font', 'size', 'font', 'weight', 'normal', 'color', 'margin', 'padding', 'text', 'transform', 'uppercase', 'table', 'sidebar', 'margin', 'padding', 'table', 'sidebar', 'font', 'family', 'arial', 'font', 'size', 'font', 'weight', 'normal', 'color', 'font', 'family', 'arial', 'helvetica', 'sans', 'serif', 'font', 'size', 'font', 'weight', 'normal', 'color', 'margin', 'padding', 'table', 'sidebar', 'font', 'family', 'arial', 'helvetica', 'sans', 'serif', 'font', 'size', 'font', 'weight', 'normal', 'color', 'margin', 'padding', 'table', 'sidebar', 'miniheader', 'font', 'family', 'arial', 'helvetica', 'sans', 'serif', 'font', 'size', 'font', 'weight', 'bold', 'color', 'margin', 'padding', 'mainbar', 'font', 'family', 'arial', 'helvetica', 'sans', 'serif', 'font', 'size', 'font', 'weight', 'normal', 'color', 'margin', 'padding', 'mainbar', 'font', 'family', 'arial', 'helvetica', 'sans', 'serif', 'font', 'size', 'font', 'weight', 'normal', 'color', 'text', 'decoration', 'none', 'mainbar', 'font', 'family', 'arial', 'helvetica', 'sans', 'serif', 'font', 'size', 'font', 'weight', 'normal', 'color', 'margin', 'padding', 'mainbar', 'top', 'padding', 'border', 'bottom', 'dotted', 'mainbar', 'top', 'font', 'family', 'verdana', 'geneva', 'sans', 'serif', 'font', 'size', 'font', 'weight', 'normal', 'color', 'mainbar', 'font', 'family', 'verdana', 'geneva', 'sans', 'serif', 'font', 'size', 'font', 'weight', 'normal', 'color', 'footer', 'font', 'family', 'lucida', 'sans', 'calibri', 'verdana', 'font', 'size', 'font', 'weight', 'normal', 'color', 'padding', 'footer', 'span', 'font', 'weight', 'bold', 'pre', 'width', 'padding', 'background', 'color', 'lightyellow', 'overflow', 'auto', 'font', 'size', 'healthcare', 'newsletter', 'thanks', 'subscribing', 'welcome', 'successfully', 'subscribed', 'start', 'receiving', 'newsletter', 'issues', 'hope', 'enjoy', 'medicine', 'shoppe', 'international', 'inc', 'ste', 'earth', 'city', 'email', 'sent', 'hibody', 'csmining', 'org', 'signed', 'receiving', 'occasional', 'messages', 'unsubscribe', 'change', 'subscriber', 'options', 'visit', 'http', 'vugirqv', 'enjkocadi', 'zsndzyjh', 'hibody', 'csmining', 'org', 'vivebuzqv'] \n",
      "\n",
      "!!!!!!!!! is row_words: True \n",
      "\n",
      "!!!!!!!!! clean_words: ['spam', 'chase', 'healthcare', 'newsletter', 'body', 'font', 'family', 'arial', 'helvetica', 'sans', 'serif', 'margin', 'padding', 'color', 'noborder', 'border', 'noimage', 'font', 'family', 'arial', 'helvetica', 'sans', 'serif', 'font', 'size', 'font', 'weight', 'normal', 'text', 'align', 'center', 'text', 'decoration', 'underline', 'center', 'text', 'align', 'center', 'permission', 'font', 'family', 'arial', 'helvetica', 'sans', 'serif', 'font', 'size', 'font', 'weight', 'normal', 'color', 'padding', 'permission', 'font', 'family', 'arial', 'helvetica', 'sans', 'serif', 'font', 'size', 'font', 'weight', 'normal', 'color', 'header', 'height', 'border', 'top', 'dotted', 'border', 'bottom', 'dotted', 'background', 'color', 'header', 'font', 'family', 'arial', 'helvetica', 'sans', 'serif', 'color', 'white', 'font', 'size', 'font', 'weight', 'bold', 'text', 'align', 'center', 'line', 'height', 'padding', 'top', 'header', 'font', 'family', 'arial', 'helvetica', 'sans', 'serif', 'color', 'white', 'font', 'size', 'font', 'weight', 'bold', 'text', 'align', 'center', 'line', 'height', 'table', 'sidebar', 'border', 'bottom', 'dotted', 'padding', 'table', 'sidebar', 'img', 'margin', 'left', 'margin', 'bottom', 'meta', 'font', 'family', 'arial', 'helvetica', 'sans', 'serif', 'font', 'size', 'font', 'weight', 'normal', 'color', 'margin', 'padding', 'text', 'transform', 'uppercase', 'table', 'sidebar', 'margin', 'padding', 'table', 'sidebar', 'font', 'family', 'arial', 'font', 'size', 'font', 'weight', 'normal', 'color', 'font', 'family', 'arial', 'helvetica', 'sans', 'serif', 'font', 'size', 'font', 'weight', 'normal', 'color', 'margin', 'padding', 'table', 'sidebar', 'font', 'family', 'arial', 'helvetica', 'sans', 'serif', 'font', 'size', 'font', 'weight', 'normal', 'color', 'margin', 'padding', 'table', 'sidebar', 'miniheader', 'font', 'family', 'arial', 'helvetica', 'sans', 'serif', 'font', 'size', 'font', 'weight', 'bold', 'color', 'margin', 'padding', 'mainbar', 'font', 'family', 'arial', 'helvetica', 'sans', 'serif', 'font', 'size', 'font', 'weight', 'normal', 'color', 'margin', 'padding', 'mainbar', 'font', 'family', 'arial', 'helvetica', 'sans', 'serif', 'font', 'size', 'font', 'weight', 'normal', 'color', 'text', 'decoration', 'none', 'mainbar', 'font', 'family', 'arial', 'helvetica', 'sans', 'serif', 'font', 'size', 'font', 'weight', 'normal', 'color', 'margin', 'padding', 'mainbar', 'top', 'padding', 'border', 'bottom', 'dotted', 'mainbar', 'top', 'font', 'family', 'verdana', 'geneva', 'sans', 'serif', 'font', 'size', 'font', 'weight', 'normal', 'color', 'mainbar', 'font', 'family', 'verdana', 'geneva', 'sans', 'serif', 'font', 'size', 'font', 'weight', 'normal', 'color', 'footer', 'font', 'family', 'lucida', 'sans', 'calibri', 'verdana', 'font', 'size', 'font', 'weight', 'normal', 'color', 'padding', 'footer', 'span', 'font', 'weight', 'bold', 'pre', 'width', 'padding', 'background', 'color', 'lightyellow', 'overflow', 'auto', 'font', 'size', 'healthcare', 'newsletter', 'thanks', 'subscribing', 'welcome', 'successfully', 'subscribed', 'start', 'receiving', 'newsletter', 'issues', 'hope', 'enjoy', 'medicine', 'shoppe', 'international', 'inc', 'ste', 'earth', 'city', 'email', 'sent', 'hibody', 'csmining', 'org', 'signed', 'receiving', 'occasional', 'messages', 'unsubscribe', 'change', 'subscriber', 'options', 'visit', 'http', 'vugirqv', 'enjkocadi', 'zsndzyjh', 'hibody', 'csmining', 'org', 'vivebuzqv'] \n",
      "\n",
      "!!!!!!!!! is clean_words: True \n",
      "\n",
      "!!!!!!!!! after remove: 358\n"
     ]
    }
   ],
   "source": [
    "def remove_stopwords(row_words):\n",
    "    \"\"\"\n",
    "    Remove stopwords from list of words.\n",
    "    \n",
    "    Argument:\n",
    "    row_words -- a list of words that contains stopwords that should be removed\n",
    "    \n",
    "    Returns:\n",
    "    words -- list of words\n",
    "\n",
    "    \"\"\"\n",
    "    \n",
    "    clean_words = row_words.copy()\n",
    "    \n",
    "    stopwords = nltk.corpus.stopwords.words('english')\n",
    "    stopwords = tokenize_and_normalize(' '.join(stopwords))\n",
    "    stopwords = list(set(stopwords))\n",
    "    \n",
    "    clean_words = [x for x in clean_words if x not in stopwords]\n",
    "    \n",
    "    return clean_words\n",
    "\n",
    "print('before remove:', len(words))\n",
    "words = remove_stopwords(words)\n",
    "print('number of words in normalized string remove:', len(words))\n",
    "\n"
   ]
  },
  {
   "cell_type": "code",
   "execution_count": null,
   "metadata": {},
   "outputs": [],
   "source": []
  }
 ],
 "metadata": {
  "kernelspec": {
   "display_name": "Python 3",
   "language": "python",
   "name": "python3"
  },
  "language_info": {
   "codemirror_mode": {
    "name": "ipython",
    "version": 3
   },
   "file_extension": ".py",
   "mimetype": "text/x-python",
   "name": "python",
   "nbconvert_exporter": "python",
   "pygments_lexer": "ipython3",
   "version": "3.7.1"
  }
 },
 "nbformat": 4,
 "nbformat_minor": 2
}
